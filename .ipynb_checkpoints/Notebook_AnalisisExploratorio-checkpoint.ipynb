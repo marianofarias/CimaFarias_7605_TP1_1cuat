{
 "cells": [
  {
   "cell_type": "markdown",
   "metadata": {},
   "source": [
    "# Introducción al Análisis Exploratorio de Datos con Pandas\n",
    "\n",
    "Es un enfoque que comprende un conjunto de tareas para analizar conjuntos de datos para poder encontrar sus principales caracteristicas.\n",
    "\n",
    "Estas tareas en general comprenden todo lo que tenemos que hacer desde que se formula una pregunta interesante, se reunen los datos y se desarrolla el proceso necesario para **poder responder esa pregunta**.\n",
    "\n",
    "Su Objetivo es:\n",
    "\n",
    "- Entender los datos.\n",
    "- Ver caracteristicas de los datos.\n",
    "- Detectar irregularidades (outliers) de los datos.\n",
    "- Obtener valores estadisticos de los datos.\n",
    "- Realizar visualizaciones rapidas que faciliten el proceso de exploracion.\n",
    "\n",
    "Usualmente el resultado del mismo suele ser un reporte o un notebook, que reune codigo y visualizaciones para llegar a ciertas **conclusiones o insights**.\n",
    "\n",
    "Es un proceso iterativo, que se retroalimenta.\n",
    "\n",
    "En general realizaremos el análisis del mismo sobre uno o varios Dataframes.\n",
    "\n",
    "Vamos obteniendo datos simples, mientras demostramos las diferentes formas de interactuar con los datos de los dataset.\n"
   ]
  },
  {
   "cell_type": "markdown",
   "metadata": {},
   "source": [
    "## Temario\n",
    "\n",
    "Estos son algunos de los temas que intentaremos revisar a lo largo del analisis propuesto\n",
    "\n",
    "- Visualizaciones\n",
    "    - Examinando la distribucion de una variables\n",
    "        - Histograma\n",
    "        - Density Plot\n",
    "    - Explorando relacion entre variables\n",
    "        - Overlaid Histogram\n",
    "        - Scatter Plot\n",
    "        - Heatmap\n",
    "    - Comparando Grupos o categorias\n",
    "        - Bar Plot\n",
    "        - Grouped Bar Plot\n",
    "        - Box Plot\n",
    "    - Recomendaciones generales para visualizacion\n",
    "- Concatenacion y Join (Merge) de data frames."
   ]
  },
  {
   "cell_type": "code",
   "execution_count": 1,
   "metadata": {},
   "outputs": [],
   "source": [
    "# importacion general de librerias y de visualizacion (matplotlib y seaborn)\n",
    "import pandas as pd\n",
    "import numpy as np\n",
    "import matplotlib.pyplot as plt\n",
    "import seaborn as sns\n",
    "import numpy as np\n",
    "%matplotlib inline\n",
    "\n",
    "import datetime as dt\n",
    "import time as tm\n",
    "plt.style.use('default') # haciendo los graficos un poco mas bonitos en matplotlib\n",
    "\n",
    "#sns.set(style=\"whitegrid\") # seteando tipo de grid en seaborn\n",
    "import datetime as dt\n",
    "import time as tm"
   ]
  },
  {
   "cell_type": "markdown",
   "metadata": {},
   "source": [
    "\n",
    "# EDUCACION"
   ]
  },
  {
   "cell_type": "code",
   "execution_count": 2,
   "metadata": {},
   "outputs": [],
   "source": [
    "#Cargo el CSV\n",
    "df_edu = pd.read_csv('fiuba_1_postulantes_educacion.csv',  sep= ',', encoding = 'UTF-8')\n"
   ]
  },
  {
   "cell_type": "markdown",
   "metadata": {},
   "source": [
    "## Visualizacion e informacion descriptiva de los dataset\n",
    "- Aquí intentamos observar a grandes razgos el contenido de cada archivo como asi tambien cantidades, nulos, Q_valores unicos, repeticiones etc"
   ]
  },
  {
   "cell_type": "markdown",
   "metadata": {},
   "source": [
    "# Educacion del postulante"
   ]
  },
  {
   "cell_type": "code",
   "execution_count": 3,
   "metadata": {
    "scrolled": true
   },
   "outputs": [
    {
     "data": {
      "text/html": [
       "<div>\n",
       "<style scoped>\n",
       "    .dataframe tbody tr th:only-of-type {\n",
       "        vertical-align: middle;\n",
       "    }\n",
       "\n",
       "    .dataframe tbody tr th {\n",
       "        vertical-align: top;\n",
       "    }\n",
       "\n",
       "    .dataframe thead th {\n",
       "        text-align: right;\n",
       "    }\n",
       "</style>\n",
       "<table border=\"1\" class=\"dataframe\">\n",
       "  <thead>\n",
       "    <tr style=\"text-align: right;\">\n",
       "      <th></th>\n",
       "      <th>idpostulante</th>\n",
       "      <th>nombre</th>\n",
       "      <th>estado</th>\n",
       "    </tr>\n",
       "  </thead>\n",
       "  <tbody>\n",
       "    <tr>\n",
       "      <th>0</th>\n",
       "      <td>NdJl</td>\n",
       "      <td>Posgrado</td>\n",
       "      <td>En Curso</td>\n",
       "    </tr>\n",
       "    <tr>\n",
       "      <th>1</th>\n",
       "      <td>8BkL</td>\n",
       "      <td>Universitario</td>\n",
       "      <td>En Curso</td>\n",
       "    </tr>\n",
       "    <tr>\n",
       "      <th>2</th>\n",
       "      <td>1d2B</td>\n",
       "      <td>Universitario</td>\n",
       "      <td>En Curso</td>\n",
       "    </tr>\n",
       "    <tr>\n",
       "      <th>3</th>\n",
       "      <td>NPBx</td>\n",
       "      <td>Universitario</td>\n",
       "      <td>En Curso</td>\n",
       "    </tr>\n",
       "    <tr>\n",
       "      <th>4</th>\n",
       "      <td>NPBx</td>\n",
       "      <td>Master</td>\n",
       "      <td>En Curso</td>\n",
       "    </tr>\n",
       "  </tbody>\n",
       "</table>\n",
       "</div>"
      ],
      "text/plain": [
       "  idpostulante         nombre    estado\n",
       "0         NdJl       Posgrado  En Curso\n",
       "1         8BkL  Universitario  En Curso\n",
       "2         1d2B  Universitario  En Curso\n",
       "3         NPBx  Universitario  En Curso\n",
       "4         NPBx         Master  En Curso"
      ]
     },
     "execution_count": 3,
     "metadata": {},
     "output_type": "execute_result"
    }
   ],
   "source": [
    "#Descripcion de la educacion de los postulantes\n",
    "df_edu.head()"
   ]
  },
  {
   "cell_type": "code",
   "execution_count": 4,
   "metadata": {},
   "outputs": [
    {
     "name": "stdout",
     "output_type": "stream",
     "text": [
      "<class 'pandas.core.frame.DataFrame'>\n",
      "RangeIndex: 298231 entries, 0 to 298230\n",
      "Data columns (total 3 columns):\n",
      "idpostulante    298231 non-null object\n",
      "nombre          298231 non-null object\n",
      "estado          298231 non-null object\n",
      "dtypes: object(3)\n",
      "memory usage: 6.8+ MB\n"
     ]
    }
   ],
   "source": [
    "# El dataset esta completo\n",
    "df_edu.info()"
   ]
  },
  {
   "cell_type": "code",
   "execution_count": 5,
   "metadata": {
    "scrolled": true
   },
   "outputs": [
    {
     "data": {
      "text/html": [
       "<div>\n",
       "<style scoped>\n",
       "    .dataframe tbody tr th:only-of-type {\n",
       "        vertical-align: middle;\n",
       "    }\n",
       "\n",
       "    .dataframe tbody tr th {\n",
       "        vertical-align: top;\n",
       "    }\n",
       "\n",
       "    .dataframe thead th {\n",
       "        text-align: right;\n",
       "    }\n",
       "</style>\n",
       "<table border=\"1\" class=\"dataframe\">\n",
       "  <thead>\n",
       "    <tr style=\"text-align: right;\">\n",
       "      <th></th>\n",
       "      <th>idpostulante</th>\n",
       "      <th>nombre</th>\n",
       "      <th>estado</th>\n",
       "    </tr>\n",
       "  </thead>\n",
       "  <tbody>\n",
       "    <tr>\n",
       "      <th>count</th>\n",
       "      <td>298231</td>\n",
       "      <td>298231</td>\n",
       "      <td>298231</td>\n",
       "    </tr>\n",
       "    <tr>\n",
       "      <th>unique</th>\n",
       "      <td>188752</td>\n",
       "      <td>7</td>\n",
       "      <td>3</td>\n",
       "    </tr>\n",
       "    <tr>\n",
       "      <th>top</th>\n",
       "      <td>YlMLGD</td>\n",
       "      <td>Secundario</td>\n",
       "      <td>Graduado</td>\n",
       "    </tr>\n",
       "    <tr>\n",
       "      <th>freq</th>\n",
       "      <td>9</td>\n",
       "      <td>110256</td>\n",
       "      <td>194474</td>\n",
       "    </tr>\n",
       "  </tbody>\n",
       "</table>\n",
       "</div>"
      ],
      "text/plain": [
       "       idpostulante      nombre    estado\n",
       "count        298231      298231    298231\n",
       "unique       188752           7         3\n",
       "top          YlMLGD  Secundario  Graduado\n",
       "freq              9      110256    194474"
      ]
     },
     "execution_count": 5,
     "metadata": {},
     "output_type": "execute_result"
    }
   ],
   "source": [
    "df_edu.describe()"
   ]
  },
  {
   "cell_type": "markdown",
   "metadata": {},
   "source": [
    "# Encontramos que existen 188752 postulantes de los cuales X tienen mas de un registro de educacion"
   ]
  },
  {
   "cell_type": "code",
   "execution_count": 6,
   "metadata": {
    "scrolled": true
   },
   "outputs": [
    {
     "data": {
      "text/html": [
       "<div>\n",
       "<style scoped>\n",
       "    .dataframe tbody tr th:only-of-type {\n",
       "        vertical-align: middle;\n",
       "    }\n",
       "\n",
       "    .dataframe tbody tr th {\n",
       "        vertical-align: top;\n",
       "    }\n",
       "\n",
       "    .dataframe thead th {\n",
       "        text-align: right;\n",
       "    }\n",
       "</style>\n",
       "<table border=\"1\" class=\"dataframe\">\n",
       "  <thead>\n",
       "    <tr style=\"text-align: right;\">\n",
       "      <th></th>\n",
       "      <th>idpostulante</th>\n",
       "      <th>Q_Education</th>\n",
       "    </tr>\n",
       "  </thead>\n",
       "  <tbody>\n",
       "    <tr>\n",
       "      <th>0</th>\n",
       "      <td>YlMLGD</td>\n",
       "      <td>9</td>\n",
       "    </tr>\n",
       "    <tr>\n",
       "      <th>1</th>\n",
       "      <td>EZD29</td>\n",
       "      <td>8</td>\n",
       "    </tr>\n",
       "    <tr>\n",
       "      <th>2</th>\n",
       "      <td>54MQGz</td>\n",
       "      <td>8</td>\n",
       "    </tr>\n",
       "    <tr>\n",
       "      <th>3</th>\n",
       "      <td>8M21pBL</td>\n",
       "      <td>7</td>\n",
       "    </tr>\n",
       "    <tr>\n",
       "      <th>4</th>\n",
       "      <td>aa1KkD</td>\n",
       "      <td>7</td>\n",
       "    </tr>\n",
       "  </tbody>\n",
       "</table>\n",
       "</div>"
      ],
      "text/plain": [
       "  idpostulante  Q_Education\n",
       "0       YlMLGD            9\n",
       "1        EZD29            8\n",
       "2       54MQGz            8\n",
       "3      8M21pBL            7\n",
       "4       aa1KkD            7"
      ]
     },
     "execution_count": 6,
     "metadata": {},
     "output_type": "execute_result"
    }
   ],
   "source": [
    "# Obtenemos cuales son los postulantes que tienen mas de un grado de educacion\n",
    "aux_df_educacion = pd.DataFrame(df_edu.idpostulante.value_counts()[df_edu.idpostulante.value_counts() > 1])\n",
    "aux_df_educacion= aux_df_educacion.reset_index()\n",
    "aux_df_educacion.columns = ['idpostulante', 'Q_Education']\n",
    "aux_df_educacion.head()"
   ]
  },
  {
   "cell_type": "code",
   "execution_count": 7,
   "metadata": {},
   "outputs": [
    {
     "data": {
      "text/plain": [
       "(80276, 2)"
      ]
     },
     "execution_count": 7,
     "metadata": {},
     "output_type": "execute_result"
    }
   ],
   "source": [
    "aux_df_educacion.shape"
   ]
  },
  {
   "cell_type": "markdown",
   "metadata": {},
   "source": [
    "# Son 80.276 postulantes con mas de un registro por educacion\n"
   ]
  },
  {
   "cell_type": "code",
   "execution_count": 8,
   "metadata": {
    "scrolled": true
   },
   "outputs": [
    {
     "data": {
      "text/html": [
       "<div>\n",
       "<style scoped>\n",
       "    .dataframe tbody tr th:only-of-type {\n",
       "        vertical-align: middle;\n",
       "    }\n",
       "\n",
       "    .dataframe tbody tr th {\n",
       "        vertical-align: top;\n",
       "    }\n",
       "\n",
       "    .dataframe thead th {\n",
       "        text-align: right;\n",
       "    }\n",
       "</style>\n",
       "<table border=\"1\" class=\"dataframe\">\n",
       "  <thead>\n",
       "    <tr style=\"text-align: right;\">\n",
       "      <th></th>\n",
       "      <th>idpostulante</th>\n",
       "      <th>Q_Education</th>\n",
       "    </tr>\n",
       "  </thead>\n",
       "  <tbody>\n",
       "    <tr>\n",
       "      <th>0</th>\n",
       "      <td>dYo2m4A</td>\n",
       "      <td>1</td>\n",
       "    </tr>\n",
       "    <tr>\n",
       "      <th>1</th>\n",
       "      <td>vVjAbRo</td>\n",
       "      <td>1</td>\n",
       "    </tr>\n",
       "    <tr>\n",
       "      <th>2</th>\n",
       "      <td>6GXrMR</td>\n",
       "      <td>1</td>\n",
       "    </tr>\n",
       "    <tr>\n",
       "      <th>3</th>\n",
       "      <td>X9PYEaO</td>\n",
       "      <td>1</td>\n",
       "    </tr>\n",
       "    <tr>\n",
       "      <th>4</th>\n",
       "      <td>ZDPVwOz</td>\n",
       "      <td>1</td>\n",
       "    </tr>\n",
       "  </tbody>\n",
       "</table>\n",
       "</div>"
      ],
      "text/plain": [
       "  idpostulante  Q_Education\n",
       "0      dYo2m4A            1\n",
       "1      vVjAbRo            1\n",
       "2       6GXrMR            1\n",
       "3      X9PYEaO            1\n",
       "4      ZDPVwOz            1"
      ]
     },
     "execution_count": 8,
     "metadata": {},
     "output_type": "execute_result"
    }
   ],
   "source": [
    "# Obtenemos cuales son los postulantes que tienen un grado de educacion\n",
    "aux_df_educacion_1 = pd.DataFrame(df_edu.idpostulante.value_counts()[df_edu.idpostulante.value_counts() == 1])\n",
    "aux_df_educacion_1= aux_df_educacion_1.reset_index()\n",
    "aux_df_educacion_1.columns = ['idpostulante', 'Q_Education']\n",
    "aux_df_educacion_1.head()\n"
   ]
  },
  {
   "cell_type": "code",
   "execution_count": 9,
   "metadata": {},
   "outputs": [
    {
     "data": {
      "text/html": [
       "<div>\n",
       "<style scoped>\n",
       "    .dataframe tbody tr th:only-of-type {\n",
       "        vertical-align: middle;\n",
       "    }\n",
       "\n",
       "    .dataframe tbody tr th {\n",
       "        vertical-align: top;\n",
       "    }\n",
       "\n",
       "    .dataframe thead th {\n",
       "        text-align: right;\n",
       "    }\n",
       "</style>\n",
       "<table border=\"1\" class=\"dataframe\">\n",
       "  <thead>\n",
       "    <tr style=\"text-align: right;\">\n",
       "      <th></th>\n",
       "      <th>idpostulante</th>\n",
       "      <th>nombre</th>\n",
       "      <th>estado</th>\n",
       "    </tr>\n",
       "  </thead>\n",
       "  <tbody>\n",
       "    <tr>\n",
       "      <th>12</th>\n",
       "      <td>EZD29</td>\n",
       "      <td>Universitario</td>\n",
       "      <td>En Curso</td>\n",
       "    </tr>\n",
       "    <tr>\n",
       "      <th>13</th>\n",
       "      <td>EZD29</td>\n",
       "      <td>Terciario/Técnico</td>\n",
       "      <td>En Curso</td>\n",
       "    </tr>\n",
       "    <tr>\n",
       "      <th>14</th>\n",
       "      <td>EZD29</td>\n",
       "      <td>Otro</td>\n",
       "      <td>En Curso</td>\n",
       "    </tr>\n",
       "    <tr>\n",
       "      <th>749</th>\n",
       "      <td>EZD29</td>\n",
       "      <td>Terciario/Técnico</td>\n",
       "      <td>Graduado</td>\n",
       "    </tr>\n",
       "    <tr>\n",
       "      <th>750</th>\n",
       "      <td>EZD29</td>\n",
       "      <td>Universitario</td>\n",
       "      <td>Graduado</td>\n",
       "    </tr>\n",
       "    <tr>\n",
       "      <th>751</th>\n",
       "      <td>EZD29</td>\n",
       "      <td>Posgrado</td>\n",
       "      <td>Graduado</td>\n",
       "    </tr>\n",
       "    <tr>\n",
       "      <th>752</th>\n",
       "      <td>EZD29</td>\n",
       "      <td>Otro</td>\n",
       "      <td>Graduado</td>\n",
       "    </tr>\n",
       "    <tr>\n",
       "      <th>3399</th>\n",
       "      <td>EZD29</td>\n",
       "      <td>Universitario</td>\n",
       "      <td>Abandonado</td>\n",
       "    </tr>\n",
       "  </tbody>\n",
       "</table>\n",
       "</div>"
      ],
      "text/plain": [
       "     idpostulante             nombre      estado\n",
       "12          EZD29      Universitario    En Curso\n",
       "13          EZD29  Terciario/Técnico    En Curso\n",
       "14          EZD29               Otro    En Curso\n",
       "749         EZD29  Terciario/Técnico    Graduado\n",
       "750         EZD29      Universitario    Graduado\n",
       "751         EZD29           Posgrado    Graduado\n",
       "752         EZD29               Otro    Graduado\n",
       "3399        EZD29      Universitario  Abandonado"
      ]
     },
     "execution_count": 9,
     "metadata": {},
     "output_type": "execute_result"
    }
   ],
   "source": [
    "# Visualizamos un postulante de ejemplo\n",
    "df_edu[df_edu.idpostulante == 'EZD29']"
   ]
  },
  {
   "cell_type": "markdown",
   "metadata": {},
   "source": [
    "# Analizamos la distribucion de los estados"
   ]
  },
  {
   "cell_type": "code",
   "execution_count": 10,
   "metadata": {},
   "outputs": [],
   "source": [
    "grf1 = df_edu['estado'].value_counts()\n"
   ]
  },
  {
   "cell_type": "markdown",
   "metadata": {},
   "source": [
    "- agrupamos nombre y estado"
   ]
  },
  {
   "cell_type": "code",
   "execution_count": 11,
   "metadata": {
    "scrolled": true
   },
   "outputs": [],
   "source": [
    "educ = df_edu.groupby(['nombre','estado'], as_index= False ).count()\\\n",
    "        .sort_values(by ='idpostulante', ascending = False)\n",
    "    \n",
    "educ.columns = ['nombre', 'estado', 'cantidad']"
   ]
  },
  {
   "cell_type": "code",
   "execution_count": 12,
   "metadata": {},
   "outputs": [],
   "source": [
    "educ[\"concat\"] = educ.nombre +' - ' +  educ.estado"
   ]
  },
  {
   "cell_type": "code",
   "execution_count": 13,
   "metadata": {},
   "outputs": [
    {
     "data": {
      "text/html": [
       "<div>\n",
       "<style scoped>\n",
       "    .dataframe tbody tr th:only-of-type {\n",
       "        vertical-align: middle;\n",
       "    }\n",
       "\n",
       "    .dataframe tbody tr th {\n",
       "        vertical-align: top;\n",
       "    }\n",
       "\n",
       "    .dataframe thead th {\n",
       "        text-align: right;\n",
       "    }\n",
       "</style>\n",
       "<table border=\"1\" class=\"dataframe\">\n",
       "  <thead>\n",
       "    <tr style=\"text-align: right;\">\n",
       "      <th></th>\n",
       "      <th>nombre</th>\n",
       "      <th>estado</th>\n",
       "      <th>cantidad</th>\n",
       "      <th>concat</th>\n",
       "    </tr>\n",
       "  </thead>\n",
       "  <tbody>\n",
       "    <tr>\n",
       "      <th>14</th>\n",
       "      <td>Secundario</td>\n",
       "      <td>Graduado</td>\n",
       "      <td>103105</td>\n",
       "      <td>Secundario - Graduado</td>\n",
       "    </tr>\n",
       "    <tr>\n",
       "      <th>19</th>\n",
       "      <td>Universitario</td>\n",
       "      <td>En Curso</td>\n",
       "      <td>50733</td>\n",
       "      <td>Universitario - En Curso</td>\n",
       "    </tr>\n",
       "    <tr>\n",
       "      <th>20</th>\n",
       "      <td>Universitario</td>\n",
       "      <td>Graduado</td>\n",
       "      <td>38607</td>\n",
       "      <td>Universitario - Graduado</td>\n",
       "    </tr>\n",
       "    <tr>\n",
       "      <th>17</th>\n",
       "      <td>Terciario/Técnico</td>\n",
       "      <td>Graduado</td>\n",
       "      <td>27009</td>\n",
       "      <td>Terciario/Técnico - Graduado</td>\n",
       "    </tr>\n",
       "    <tr>\n",
       "      <th>8</th>\n",
       "      <td>Otro</td>\n",
       "      <td>Graduado</td>\n",
       "      <td>18882</td>\n",
       "      <td>Otro - Graduado</td>\n",
       "    </tr>\n",
       "  </tbody>\n",
       "</table>\n",
       "</div>"
      ],
      "text/plain": [
       "               nombre    estado  cantidad                        concat\n",
       "14         Secundario  Graduado    103105         Secundario - Graduado\n",
       "19      Universitario  En Curso     50733      Universitario - En Curso\n",
       "20      Universitario  Graduado     38607      Universitario - Graduado\n",
       "17  Terciario/Técnico  Graduado     27009  Terciario/Técnico - Graduado\n",
       "8                Otro  Graduado     18882               Otro - Graduado"
      ]
     },
     "execution_count": 13,
     "metadata": {},
     "output_type": "execute_result"
    }
   ],
   "source": [
    "educ.head()"
   ]
  },
  {
   "cell_type": "code",
   "execution_count": 14,
   "metadata": {},
   "outputs": [
    {
     "data": {
      "text/plain": [
       "Graduado      194474\n",
       "En Curso       78531\n",
       "Abandonado     25226\n",
       "Name: estado, dtype: int64"
      ]
     },
     "execution_count": 14,
     "metadata": {},
     "output_type": "execute_result"
    }
   ],
   "source": [
    "grf1"
   ]
  },
  {
   "cell_type": "code",
   "execution_count": 15,
   "metadata": {
    "scrolled": true
   },
   "outputs": [
    {
     "data": {
      "text/plain": [
       "Text(0,0.5,'Q_Postulantes')"
      ]
     },
     "execution_count": 15,
     "metadata": {},
     "output_type": "execute_result"
    },
    {
     "data": {
      "image/png": "[encoded data removed]",
      "text/plain": [
       "<Figure size 432x288 with 1 Axes>"
      ]
     },
     "metadata": {},
     "output_type": "display_data"
    }
   ],
   "source": [
    "gr = sns.barplot(x= grf1.index, y=grf1.values , orient='v')\n",
    "gr.set_title(\"Estado academico de Postulantes\", fontsize=15)\n",
    "gr.set_xlabel(\"Estado\", fontsize=12)\n",
    "gr.set_ylabel(\"Q_Postulantes\", fontsize=12)"
   ]
  },
  {
   "cell_type": "markdown",
   "metadata": {},
   "source": [
    "# Analizamos el nivel academico"
   ]
  },
  {
   "cell_type": "code",
   "execution_count": 16,
   "metadata": {},
   "outputs": [
    {
     "data": {
      "text/plain": [
       "Secundario           110256\n",
       "Universitario        104295\n",
       "Terciario/Técnico     47733\n",
       "Otro                  24748\n",
       "Posgrado               7387\n",
       "Master                 3598\n",
       "Doctorado               214\n",
       "Name: nombre, dtype: int64"
      ]
     },
     "execution_count": 16,
     "metadata": {},
     "output_type": "execute_result"
    }
   ],
   "source": [
    "grf2 = df_edu['nombre'].value_counts()\n",
    "grf2"
   ]
  },
  {
   "cell_type": "code",
   "execution_count": 17,
   "metadata": {},
   "outputs": [
    {
     "data": {
      "text/plain": [
       "Text(0,0.5,'Q_Postulantes')"
      ]
     },
     "execution_count": 17,
     "metadata": {},
     "output_type": "execute_result"
    },
    {
     "data": {
      "image/png": "[encoded data removed]",
      "text/plain": [
       "<Figure size 432x288 with 1 Axes>"
      ]
     },
     "metadata": {},
     "output_type": "display_data"
    }
   ],
   "source": [
    "gr = sns.barplot(x=  grf2.values , y= grf2.index , orient='h')\n",
    "gr.set_title(\"Estado academico de Postulantes\", fontsize=15)\n",
    "gr.set_xlabel(\"Estado\", fontsize=12)\n",
    "gr.set_ylabel(\"Q_Postulantes\", fontsize=12)"
   ]
  },
  {
   "cell_type": "code",
   "execution_count": 18,
   "metadata": {},
   "outputs": [
    {
     "data": {
      "text/plain": [
       "Text(0,0.5,'Estado')"
      ]
     },
     "execution_count": 18,
     "metadata": {},
     "output_type": "execute_result"
    },
    {
     "data": {
      "image/png": "[encoded data removed]",
      "text/plain": [
       "<Figure size 432x288 with 1 Axes>"
      ]
     },
     "metadata": {},
     "output_type": "display_data"
    }
   ],
   "source": [
    "gr = sns.barplot(x= 'cantidad' , y= 'concat' ,  orient='h', data = educ)\n",
    "gr.set_title(\"Estado academico de Postulantes\", fontsize=15)\n",
    "gr.set_xlabel(\"Q_Postulantes\", fontsize=12)\n",
    "gr.set_ylabel(\"Estado\", fontsize=12)"
   ]
  },
  {
   "cell_type": "code",
   "execution_count": 19,
   "metadata": {
    "scrolled": true
   },
   "outputs": [
    {
     "data": {
      "text/html": [
       "<div>\n",
       "<style scoped>\n",
       "    .dataframe tbody tr th:only-of-type {\n",
       "        vertical-align: middle;\n",
       "    }\n",
       "\n",
       "    .dataframe tbody tr th {\n",
       "        vertical-align: top;\n",
       "    }\n",
       "\n",
       "    .dataframe thead th {\n",
       "        text-align: right;\n",
       "    }\n",
       "</style>\n",
       "<table border=\"1\" class=\"dataframe\">\n",
       "  <thead>\n",
       "    <tr style=\"text-align: right;\">\n",
       "      <th></th>\n",
       "      <th>idpostulante</th>\n",
       "      <th>nombre</th>\n",
       "      <th>estado</th>\n",
       "    </tr>\n",
       "  </thead>\n",
       "  <tbody>\n",
       "    <tr>\n",
       "      <th>0</th>\n",
       "      <td>NdJl</td>\n",
       "      <td>Posgrado</td>\n",
       "      <td>En Curso</td>\n",
       "    </tr>\n",
       "    <tr>\n",
       "      <th>1</th>\n",
       "      <td>8BkL</td>\n",
       "      <td>Universitario</td>\n",
       "      <td>En Curso</td>\n",
       "    </tr>\n",
       "    <tr>\n",
       "      <th>2</th>\n",
       "      <td>1d2B</td>\n",
       "      <td>Universitario</td>\n",
       "      <td>En Curso</td>\n",
       "    </tr>\n",
       "    <tr>\n",
       "      <th>3</th>\n",
       "      <td>NPBx</td>\n",
       "      <td>Universitario</td>\n",
       "      <td>En Curso</td>\n",
       "    </tr>\n",
       "    <tr>\n",
       "      <th>4</th>\n",
       "      <td>NPBx</td>\n",
       "      <td>Master</td>\n",
       "      <td>En Curso</td>\n",
       "    </tr>\n",
       "  </tbody>\n",
       "</table>\n",
       "</div>"
      ],
      "text/plain": [
       "  idpostulante         nombre    estado\n",
       "0         NdJl       Posgrado  En Curso\n",
       "1         8BkL  Universitario  En Curso\n",
       "2         1d2B  Universitario  En Curso\n",
       "3         NPBx  Universitario  En Curso\n",
       "4         NPBx         Master  En Curso"
      ]
     },
     "execution_count": 19,
     "metadata": {},
     "output_type": "execute_result"
    }
   ],
   "source": [
    "df_edu.merge(aux_df_educacion_1, how='inner', on= 'idpostulante' )\n",
    "df_edu.head()"
   ]
  },
  {
   "cell_type": "code",
   "execution_count": 20,
   "metadata": {},
   "outputs": [],
   "source": [
    "# Borro los dataframes que no voy a usar mas para liberar memoria\n",
    "del df_edu, aux_df_educacion, educ, aux_df_educacion_1"
   ]
  },
  {
   "cell_type": "markdown",
   "metadata": {},
   "source": [
    "# ANALIZAMOS LOS POSTULANTES"
   ]
  },
  {
   "cell_type": "code",
   "execution_count": 21,
   "metadata": {},
   "outputs": [],
   "source": [
    "from datetime import datetime as dt\n",
    "formato = \"%H:%M:%S\""
   ]
  },
  {
   "cell_type": "code",
   "execution_count": 22,
   "metadata": {},
   "outputs": [
    {
     "data": {
      "text/html": [
       "<div>\n",
       "<style scoped>\n",
       "    .dataframe tbody tr th:only-of-type {\n",
       "        vertical-align: middle;\n",
       "    }\n",
       "\n",
       "    .dataframe tbody tr th {\n",
       "        vertical-align: top;\n",
       "    }\n",
       "\n",
       "    .dataframe thead th {\n",
       "        text-align: right;\n",
       "    }\n",
       "</style>\n",
       "<table border=\"1\" class=\"dataframe\">\n",
       "  <thead>\n",
       "    <tr style=\"text-align: right;\">\n",
       "      <th></th>\n",
       "      <th>idpostulante</th>\n",
       "      <th>fechanacimiento</th>\n",
       "      <th>sexo</th>\n",
       "    </tr>\n",
       "  </thead>\n",
       "  <tbody>\n",
       "    <tr>\n",
       "      <th>0</th>\n",
       "      <td>NM5M</td>\n",
       "      <td>1970-12-03</td>\n",
       "      <td>FEM</td>\n",
       "    </tr>\n",
       "    <tr>\n",
       "      <th>1</th>\n",
       "      <td>5awk</td>\n",
       "      <td>1962-12-04</td>\n",
       "      <td>FEM</td>\n",
       "    </tr>\n",
       "    <tr>\n",
       "      <th>2</th>\n",
       "      <td>ZaO5</td>\n",
       "      <td>1978-08-10</td>\n",
       "      <td>FEM</td>\n",
       "    </tr>\n",
       "    <tr>\n",
       "      <th>3</th>\n",
       "      <td>NdJl</td>\n",
       "      <td>1969-05-09</td>\n",
       "      <td>MASC</td>\n",
       "    </tr>\n",
       "    <tr>\n",
       "      <th>4</th>\n",
       "      <td>eo2p</td>\n",
       "      <td>1981-02-16</td>\n",
       "      <td>MASC</td>\n",
       "    </tr>\n",
       "  </tbody>\n",
       "</table>\n",
       "</div>"
      ],
      "text/plain": [
       "  idpostulante fechanacimiento  sexo\n",
       "0         NM5M      1970-12-03   FEM\n",
       "1         5awk      1962-12-04   FEM\n",
       "2         ZaO5      1978-08-10   FEM\n",
       "3         NdJl      1969-05-09  MASC\n",
       "4         eo2p      1981-02-16  MASC"
      ]
     },
     "execution_count": 22,
     "metadata": {},
     "output_type": "execute_result"
    }
   ],
   "source": [
    "# Cargo el dato del postulante.\n",
    "df_post = pd.read_csv('fiuba_2_postulantes_genero_y_edad.csv',  sep= ',', encoding = 'UTF-8')\n",
    "df_post.head()"
   ]
  },
  {
   "cell_type": "code",
   "execution_count": 23,
   "metadata": {},
   "outputs": [
    {
     "data": {
      "text/html": [
       "<div>\n",
       "<style scoped>\n",
       "    .dataframe tbody tr th:only-of-type {\n",
       "        vertical-align: middle;\n",
       "    }\n",
       "\n",
       "    .dataframe tbody tr th {\n",
       "        vertical-align: top;\n",
       "    }\n",
       "\n",
       "    .dataframe thead th {\n",
       "        text-align: right;\n",
       "    }\n",
       "</style>\n",
       "<table border=\"1\" class=\"dataframe\">\n",
       "  <thead>\n",
       "    <tr style=\"text-align: right;\">\n",
       "      <th></th>\n",
       "      <th>idpostulante</th>\n",
       "      <th>fechanacimiento</th>\n",
       "      <th>sexo</th>\n",
       "    </tr>\n",
       "  </thead>\n",
       "  <tbody>\n",
       "    <tr>\n",
       "      <th>count</th>\n",
       "      <td>200888</td>\n",
       "      <td>196138</td>\n",
       "      <td>200888</td>\n",
       "    </tr>\n",
       "    <tr>\n",
       "      <th>unique</th>\n",
       "      <td>200888</td>\n",
       "      <td>15027</td>\n",
       "      <td>3</td>\n",
       "    </tr>\n",
       "    <tr>\n",
       "      <th>top</th>\n",
       "      <td>6r2WMdr</td>\n",
       "      <td>1994-05-24</td>\n",
       "      <td>FEM</td>\n",
       "    </tr>\n",
       "    <tr>\n",
       "      <th>freq</th>\n",
       "      <td>1</td>\n",
       "      <td>57</td>\n",
       "      <td>101981</td>\n",
       "    </tr>\n",
       "  </tbody>\n",
       "</table>\n",
       "</div>"
      ],
      "text/plain": [
       "       idpostulante fechanacimiento    sexo\n",
       "count        200888          196138  200888\n",
       "unique       200888           15027       3\n",
       "top         6r2WMdr      1994-05-24     FEM\n",
       "freq              1              57  101981"
      ]
     },
     "execution_count": 23,
     "metadata": {},
     "output_type": "execute_result"
    }
   ],
   "source": [
    "df_post.describe()"
   ]
  },
  {
   "cell_type": "code",
   "execution_count": 24,
   "metadata": {},
   "outputs": [
    {
     "name": "stdout",
     "output_type": "stream",
     "text": [
      "<class 'pandas.core.frame.DataFrame'>\n",
      "RangeIndex: 200888 entries, 0 to 200887\n",
      "Data columns (total 3 columns):\n",
      "idpostulante       200888 non-null object\n",
      "fechanacimiento    196138 non-null object\n",
      "sexo               200888 non-null object\n",
      "dtypes: object(3)\n",
      "memory usage: 4.6+ MB\n"
     ]
    }
   ],
   "source": [
    "df_post.info()"
   ]
  },
  {
   "cell_type": "code",
   "execution_count": 25,
   "metadata": {},
   "outputs": [
    {
     "data": {
      "text/plain": [
       "idpostulante       False\n",
       "fechanacimiento     True\n",
       "sexo               False\n",
       "dtype: bool"
      ]
     },
     "execution_count": 25,
     "metadata": {},
     "output_type": "execute_result"
    }
   ],
   "source": [
    "df_post.isnull().any()"
   ]
  },
  {
   "cell_type": "code",
   "execution_count": 26,
   "metadata": {},
   "outputs": [
    {
     "name": "stdout",
     "output_type": "stream",
     "text": [
      "Porcentaje de Fechas de nacimientos Nulos  2.364501612838995 total de registros  200888 Cantidad de Registros  4750\n"
     ]
    }
   ],
   "source": [
    "print('Porcentaje de Fechas de nacimientos Nulos ', (df_post[(df_post.fechanacimiento.isnull()) == True].shape[0]/df_post.shape[0])*100 \\\n",
    "      , 'total de registros ',  df_post.shape[0] , 'Cantidad de Registros ' , df_post[(df_post.fechanacimiento.isnull()) == True].shape[0] )\n",
    "# es solo el 2% del total que no tiene edad ni sexo cargado, no es significante la falta del mismo"
   ]
  },
  {
   "cell_type": "code",
   "execution_count": 27,
   "metadata": {},
   "outputs": [],
   "source": [
    "# imputamos una fecha dummy para aquellos registros que no poseen valores, tambien podriamos haberlos eliminados\n",
    "df_post.fechanacimiento.fillna('1900/01/01', inplace = True)"
   ]
  },
  {
   "cell_type": "code",
   "execution_count": 28,
   "metadata": {},
   "outputs": [],
   "source": [
    "fecha = df_post.fechanacimiento.apply(lambda x: dt.strptime(x.replace('-','/'), '%Y/%m/%d'))"
   ]
  },
  {
   "cell_type": "code",
   "execution_count": 29,
   "metadata": {},
   "outputs": [],
   "source": [
    "df_post.fechanacimiento = fecha "
   ]
  },
  {
   "cell_type": "code",
   "execution_count": 30,
   "metadata": {},
   "outputs": [],
   "source": [
    "anio = df_post.fechanacimiento.apply(lambda x: dt.today().year - x.year)"
   ]
  },
  {
   "cell_type": "code",
   "execution_count": 31,
   "metadata": {},
   "outputs": [],
   "source": [
    "df_post['edad'] = anio "
   ]
  },
  {
   "cell_type": "markdown",
   "metadata": {},
   "source": [
    "# Graficamos los postulantes que tienen menos de 60 años."
   ]
  },
  {
   "cell_type": "code",
   "execution_count": 35,
   "metadata": {},
   "outputs": [
    {
     "data": {
      "image/png": "[encoded data removed]",
      "text/plain": [
       "<Figure size 432x288 with 1 Axes>"
      ]
     },
     "metadata": {},
     "output_type": "display_data"
    }
   ],
   "source": [
    "g = df_post.edad[df_post.edad < 60 ].plot.hist(bins=50 , range=(0,70), color='lightblue', edgecolor='black', linewidth=0.5)"
   ]
  },
  {
   "cell_type": "code",
   "execution_count": 36,
   "metadata": {},
   "outputs": [],
   "source": [
    "# Quiero ver la edad de la mayoria de los postulantes."
   ]
  },
  {
   "cell_type": "code",
   "execution_count": 37,
   "metadata": {},
   "outputs": [
    {
     "data": {
      "text/plain": [
       "Text(0,0.5,'Edades')"
      ]
     },
     "execution_count": 37,
     "metadata": {},
     "output_type": "execute_result"
    },
    {
     "data": {
      "image/png": "[encoded data removed]",
      "text/plain": [
       "<Figure size 720x720 with 1 Axes>"
      ]
     },
     "metadata": {},
     "output_type": "display_data"
    }
   ],
   "source": [
    "plt.figure(figsize=(10, 10))\n",
    "gr = sns.barplot(x=df_post.edad[df_post.edad < 60 ].value_counts().values , y=df_post.edad[df_post.edad < 60 ].value_counts().index ,  orient='h')\n",
    "gr.set_title(\"Agrupamiendo de edades\", fontsize=15)\n",
    "gr.set_xlabel(\"Q_Postulantes\", fontsize=12)\n",
    "gr.set_ylabel(\"Edades\", fontsize=15)"
   ]
  },
  {
   "cell_type": "markdown",
   "metadata": {},
   "source": [
    "# Visita del postulante"
   ]
  },
  {
   "cell_type": "code",
   "execution_count": 38,
   "metadata": {},
   "outputs": [],
   "source": [
    "# Traigo el dato de las visitas.\n",
    "df_visitas = pd.read_csv('fiuba_3_vistas.csv',  sep= ',', encoding = 'UTF-8')"
   ]
  },
  {
   "cell_type": "code",
   "execution_count": 39,
   "metadata": {},
   "outputs": [
    {
     "data": {
      "text/html": [
       "<div>\n",
       "<style scoped>\n",
       "    .dataframe tbody tr th:only-of-type {\n",
       "        vertical-align: middle;\n",
       "    }\n",
       "\n",
       "    .dataframe tbody tr th {\n",
       "        vertical-align: top;\n",
       "    }\n",
       "\n",
       "    .dataframe thead th {\n",
       "        text-align: right;\n",
       "    }\n",
       "</style>\n",
       "<table border=\"1\" class=\"dataframe\">\n",
       "  <thead>\n",
       "    <tr style=\"text-align: right;\">\n",
       "      <th></th>\n",
       "      <th>idAviso</th>\n",
       "      <th>timestamp</th>\n",
       "      <th>idpostulante</th>\n",
       "    </tr>\n",
       "  </thead>\n",
       "  <tbody>\n",
       "    <tr>\n",
       "      <th>0</th>\n",
       "      <td>1111780242</td>\n",
       "      <td>2018-02-23T13:38:13.187-0500</td>\n",
       "      <td>YjVJQ6Z</td>\n",
       "    </tr>\n",
       "    <tr>\n",
       "      <th>1</th>\n",
       "      <td>1112263876</td>\n",
       "      <td>2018-02-23T13:38:14.296-0500</td>\n",
       "      <td>BmVpYoR</td>\n",
       "    </tr>\n",
       "    <tr>\n",
       "      <th>2</th>\n",
       "      <td>1112327963</td>\n",
       "      <td>2018-02-23T13:38:14.329-0500</td>\n",
       "      <td>wVkBzZd</td>\n",
       "    </tr>\n",
       "    <tr>\n",
       "      <th>3</th>\n",
       "      <td>1112318643</td>\n",
       "      <td>2018-02-23T13:38:17.921-0500</td>\n",
       "      <td>OqmP9pv</td>\n",
       "    </tr>\n",
       "    <tr>\n",
       "      <th>4</th>\n",
       "      <td>1111903673</td>\n",
       "      <td>2018-02-23T13:38:18.973-0500</td>\n",
       "      <td>DrpbXDP</td>\n",
       "    </tr>\n",
       "  </tbody>\n",
       "</table>\n",
       "</div>"
      ],
      "text/plain": [
       "      idAviso                     timestamp idpostulante\n",
       "0  1111780242  2018-02-23T13:38:13.187-0500      YjVJQ6Z\n",
       "1  1112263876  2018-02-23T13:38:14.296-0500      BmVpYoR\n",
       "2  1112327963  2018-02-23T13:38:14.329-0500      wVkBzZd\n",
       "3  1112318643  2018-02-23T13:38:17.921-0500      OqmP9pv\n",
       "4  1111903673  2018-02-23T13:38:18.973-0500      DrpbXDP"
      ]
     },
     "execution_count": 39,
     "metadata": {},
     "output_type": "execute_result"
    }
   ],
   "source": [
    "df_visitas.head()"
   ]
  },
  {
   "cell_type": "code",
   "execution_count": 40,
   "metadata": {},
   "outputs": [
    {
     "data": {
      "text/plain": [
       "pandas.core.series.Series"
      ]
     },
     "execution_count": 40,
     "metadata": {},
     "output_type": "execute_result"
    }
   ],
   "source": [
    "type(df_visitas.timestamp)"
   ]
  },
  {
   "cell_type": "code",
   "execution_count": 41,
   "metadata": {},
   "outputs": [
    {
     "data": {
      "text/plain": [
       "datetime.datetime(2018, 2, 23, 0, 0)"
      ]
     },
     "execution_count": 41,
     "metadata": {},
     "output_type": "execute_result"
    }
   ],
   "source": [
    "#dt.datetime.strptime('2018/02/23', '%Y/%m/%d')\n",
    "dt.strptime('2018-02-23', '%Y-%m-%d')"
   ]
  },
  {
   "cell_type": "code",
   "execution_count": 42,
   "metadata": {},
   "outputs": [],
   "source": [
    "fecha1 = df_visitas.timestamp.apply(lambda x: dt.strptime(x.split('T')[0], '%Y-%m-%d'))"
   ]
  },
  {
   "cell_type": "code",
   "execution_count": 43,
   "metadata": {},
   "outputs": [],
   "source": [
    "df_visitas['fecha'] = fecha1"
   ]
  },
  {
   "cell_type": "code",
   "execution_count": 44,
   "metadata": {},
   "outputs": [],
   "source": [
    "#dt.strptime(df_visitas.timestamp[0].split('T')[1],\"%H:%M:%S\")\n",
    "hora_2 = df_visitas.timestamp.apply(lambda x: dt.time(dt.strptime(x.split('T')[1].split('.')[0], \"%H:%M:%S\")))"
   ]
  },
  {
   "cell_type": "code",
   "execution_count": 45,
   "metadata": {},
   "outputs": [],
   "source": [
    "df_visitas['hora'] = hora_2"
   ]
  },
  {
   "cell_type": "code",
   "execution_count": 46,
   "metadata": {
    "scrolled": false
   },
   "outputs": [
    {
     "data": {
      "text/html": [
       "<div>\n",
       "<style scoped>\n",
       "    .dataframe tbody tr th:only-of-type {\n",
       "        vertical-align: middle;\n",
       "    }\n",
       "\n",
       "    .dataframe tbody tr th {\n",
       "        vertical-align: top;\n",
       "    }\n",
       "\n",
       "    .dataframe thead th {\n",
       "        text-align: right;\n",
       "    }\n",
       "</style>\n",
       "<table border=\"1\" class=\"dataframe\">\n",
       "  <thead>\n",
       "    <tr style=\"text-align: right;\">\n",
       "      <th></th>\n",
       "      <th>idAviso</th>\n",
       "      <th>timestamp</th>\n",
       "      <th>idpostulante</th>\n",
       "      <th>fecha</th>\n",
       "      <th>hora</th>\n",
       "    </tr>\n",
       "  </thead>\n",
       "  <tbody>\n",
       "    <tr>\n",
       "      <th>0</th>\n",
       "      <td>1111780242</td>\n",
       "      <td>2018-02-23T13:38:13.187-0500</td>\n",
       "      <td>YjVJQ6Z</td>\n",
       "      <td>2018-02-23</td>\n",
       "      <td>13:38:13</td>\n",
       "    </tr>\n",
       "    <tr>\n",
       "      <th>1</th>\n",
       "      <td>1112263876</td>\n",
       "      <td>2018-02-23T13:38:14.296-0500</td>\n",
       "      <td>BmVpYoR</td>\n",
       "      <td>2018-02-23</td>\n",
       "      <td>13:38:14</td>\n",
       "    </tr>\n",
       "    <tr>\n",
       "      <th>2</th>\n",
       "      <td>1112327963</td>\n",
       "      <td>2018-02-23T13:38:14.329-0500</td>\n",
       "      <td>wVkBzZd</td>\n",
       "      <td>2018-02-23</td>\n",
       "      <td>13:38:14</td>\n",
       "    </tr>\n",
       "    <tr>\n",
       "      <th>3</th>\n",
       "      <td>1112318643</td>\n",
       "      <td>2018-02-23T13:38:17.921-0500</td>\n",
       "      <td>OqmP9pv</td>\n",
       "      <td>2018-02-23</td>\n",
       "      <td>13:38:17</td>\n",
       "    </tr>\n",
       "    <tr>\n",
       "      <th>4</th>\n",
       "      <td>1111903673</td>\n",
       "      <td>2018-02-23T13:38:18.973-0500</td>\n",
       "      <td>DrpbXDP</td>\n",
       "      <td>2018-02-23</td>\n",
       "      <td>13:38:18</td>\n",
       "    </tr>\n",
       "  </tbody>\n",
       "</table>\n",
       "</div>"
      ],
      "text/plain": [
       "      idAviso                     timestamp idpostulante      fecha      hora\n",
       "0  1111780242  2018-02-23T13:38:13.187-0500      YjVJQ6Z 2018-02-23  13:38:13\n",
       "1  1112263876  2018-02-23T13:38:14.296-0500      BmVpYoR 2018-02-23  13:38:14\n",
       "2  1112327963  2018-02-23T13:38:14.329-0500      wVkBzZd 2018-02-23  13:38:14\n",
       "3  1112318643  2018-02-23T13:38:17.921-0500      OqmP9pv 2018-02-23  13:38:17\n",
       "4  1111903673  2018-02-23T13:38:18.973-0500      DrpbXDP 2018-02-23  13:38:18"
      ]
     },
     "execution_count": 46,
     "metadata": {},
     "output_type": "execute_result"
    }
   ],
   "source": [
    "df_visitas.head()"
   ]
  },
  {
   "cell_type": "code",
   "execution_count": 47,
   "metadata": {},
   "outputs": [],
   "source": [
    "visita_by_post = pd.merge(df_visitas, df_post, how = 'inner', on = 'idpostulante')"
   ]
  },
  {
   "cell_type": "code",
   "execution_count": 48,
   "metadata": {
    "scrolled": true
   },
   "outputs": [
    {
     "data": {
      "text/html": [
       "<div>\n",
       "<style scoped>\n",
       "    .dataframe tbody tr th:only-of-type {\n",
       "        vertical-align: middle;\n",
       "    }\n",
       "\n",
       "    .dataframe tbody tr th {\n",
       "        vertical-align: top;\n",
       "    }\n",
       "\n",
       "    .dataframe thead th {\n",
       "        text-align: right;\n",
       "    }\n",
       "</style>\n",
       "<table border=\"1\" class=\"dataframe\">\n",
       "  <thead>\n",
       "    <tr style=\"text-align: right;\">\n",
       "      <th></th>\n",
       "      <th>idAviso</th>\n",
       "      <th>timestamp</th>\n",
       "      <th>idpostulante</th>\n",
       "      <th>fecha</th>\n",
       "      <th>hora</th>\n",
       "      <th>fechanacimiento</th>\n",
       "      <th>sexo</th>\n",
       "      <th>edad</th>\n",
       "    </tr>\n",
       "  </thead>\n",
       "  <tbody>\n",
       "    <tr>\n",
       "      <th>0</th>\n",
       "      <td>1111780242</td>\n",
       "      <td>2018-02-23T13:38:13.187-0500</td>\n",
       "      <td>YjVJQ6Z</td>\n",
       "      <td>2018-02-23</td>\n",
       "      <td>13:38:13</td>\n",
       "      <td>1991-11-16 00:00:00</td>\n",
       "      <td>MASC</td>\n",
       "      <td>27</td>\n",
       "    </tr>\n",
       "    <tr>\n",
       "      <th>1</th>\n",
       "      <td>1112301574</td>\n",
       "      <td>2018-02-27T11:28:37.162-0500</td>\n",
       "      <td>YjVJQ6Z</td>\n",
       "      <td>2018-02-27</td>\n",
       "      <td>11:28:37</td>\n",
       "      <td>1991-11-16 00:00:00</td>\n",
       "      <td>MASC</td>\n",
       "      <td>27</td>\n",
       "    </tr>\n",
       "    <tr>\n",
       "      <th>2</th>\n",
       "      <td>1112319451</td>\n",
       "      <td>2018-02-27T11:26:31.101-0500</td>\n",
       "      <td>YjVJQ6Z</td>\n",
       "      <td>2018-02-27</td>\n",
       "      <td>11:26:31</td>\n",
       "      <td>1991-11-16 00:00:00</td>\n",
       "      <td>MASC</td>\n",
       "      <td>27</td>\n",
       "    </tr>\n",
       "    <tr>\n",
       "      <th>3</th>\n",
       "      <td>1112326950</td>\n",
       "      <td>2018-02-27T11:28:43.417-0500</td>\n",
       "      <td>YjVJQ6Z</td>\n",
       "      <td>2018-02-27</td>\n",
       "      <td>11:28:43</td>\n",
       "      <td>1991-11-16 00:00:00</td>\n",
       "      <td>MASC</td>\n",
       "      <td>27</td>\n",
       "    </tr>\n",
       "    <tr>\n",
       "      <th>4</th>\n",
       "      <td>1112263876</td>\n",
       "      <td>2018-02-23T13:38:14.296-0500</td>\n",
       "      <td>BmVpYoR</td>\n",
       "      <td>2018-02-23</td>\n",
       "      <td>13:38:14</td>\n",
       "      <td>1989-12-08 00:00:00</td>\n",
       "      <td>MASC</td>\n",
       "      <td>29</td>\n",
       "    </tr>\n",
       "  </tbody>\n",
       "</table>\n",
       "</div>"
      ],
      "text/plain": [
       "      idAviso                     timestamp idpostulante      fecha      hora  \\\n",
       "0  1111780242  2018-02-23T13:38:13.187-0500      YjVJQ6Z 2018-02-23  13:38:13   \n",
       "1  1112301574  2018-02-27T11:28:37.162-0500      YjVJQ6Z 2018-02-27  11:28:37   \n",
       "2  1112319451  2018-02-27T11:26:31.101-0500      YjVJQ6Z 2018-02-27  11:26:31   \n",
       "3  1112326950  2018-02-27T11:28:43.417-0500      YjVJQ6Z 2018-02-27  11:28:43   \n",
       "4  1112263876  2018-02-23T13:38:14.296-0500      BmVpYoR 2018-02-23  13:38:14   \n",
       "\n",
       "       fechanacimiento  sexo  edad  \n",
       "0  1991-11-16 00:00:00  MASC    27  \n",
       "1  1991-11-16 00:00:00  MASC    27  \n",
       "2  1991-11-16 00:00:00  MASC    27  \n",
       "3  1991-11-16 00:00:00  MASC    27  \n",
       "4  1989-12-08 00:00:00  MASC    29  "
      ]
     },
     "execution_count": 48,
     "metadata": {},
     "output_type": "execute_result"
    }
   ],
   "source": [
    "visita_by_post.head()"
   ]
  },
  {
   "cell_type": "code",
   "execution_count": 49,
   "metadata": {},
   "outputs": [],
   "source": [
    "del visita_by_post"
   ]
  },
  {
   "cell_type": "code",
   "execution_count": 50,
   "metadata": {},
   "outputs": [
    {
     "data": {
      "text/plain": [
       "7458"
      ]
     },
     "execution_count": 50,
     "metadata": {},
     "output_type": "execute_result"
    }
   ],
   "source": [
    "df_visitas.idAviso.nunique()"
   ]
  },
  {
   "cell_type": "code",
   "execution_count": 51,
   "metadata": {},
   "outputs": [
    {
     "name": "stdout",
     "output_type": "stream",
     "text": [
      "<class 'pandas.core.frame.DataFrame'>\n",
      "RangeIndex: 961897 entries, 0 to 961896\n",
      "Data columns (total 5 columns):\n",
      "idAviso         961897 non-null int64\n",
      "timestamp       961897 non-null object\n",
      "idpostulante    961897 non-null object\n",
      "fecha           961897 non-null datetime64[ns]\n",
      "hora            961897 non-null object\n",
      "dtypes: datetime64[ns](1), int64(1), object(3)\n",
      "memory usage: 36.7+ MB\n"
     ]
    }
   ],
   "source": [
    "# no tiene nulos\n",
    "df_visitas.info()"
   ]
  },
  {
   "cell_type": "code",
   "execution_count": 52,
   "metadata": {},
   "outputs": [
    {
     "data": {
      "text/plain": [
       "1112363488    4169\n",
       "1112359836    4120\n",
       "1112352317    4003\n",
       "1112366909    3669\n",
       "1112355872    3472\n",
       "1112344973    3299\n",
       "1112369306    3236\n",
       "1112346591    2979\n",
       "1112345900    2841\n",
       "1112334791    2817\n",
       "1112364849    2768\n",
       "1112359880    2659\n",
       "1112316288    2638\n",
       "1112354099    2609\n",
       "1112200601    2532\n",
       "1112340866    2517\n",
       "1112337868    2467\n",
       "1112349037    2444\n",
       "1112361693    2436\n",
       "1112206678    2396\n",
       "1112364754    2376\n",
       "1112361175    2309\n",
       "1112347174    2274\n",
       "1112361527    2274\n",
       "1112366913    2250\n",
       "1112360679    2211\n",
       "1112363083    2201\n",
       "1112359300    2175\n",
       "1112351629    2160\n",
       "1112368053    2064\n",
       "              ... \n",
       "1112279512       1\n",
       "1112342094       1\n",
       "1112278050       1\n",
       "1112087794       1\n",
       "1112341811       1\n",
       "1111884027       1\n",
       "1112226998       1\n",
       "1111649574       1\n",
       "1112159383       1\n",
       "1112105024       1\n",
       "1112206182       1\n",
       "17903700         1\n",
       "1111786490       1\n",
       "1112296027       1\n",
       "1112341750       1\n",
       "1111496554       1\n",
       "1112239042       1\n",
       "1111263480       1\n",
       "1112131226       1\n",
       "1112249371       1\n",
       "1111267132       1\n",
       "1111645593       1\n",
       "1112268758       1\n",
       "1111930116       1\n",
       "1111822280       1\n",
       "1111722207       1\n",
       "1112043828       1\n",
       "1112144621       1\n",
       "1112296400       1\n",
       "1111501585       1\n",
       "Name: idAviso, Length: 7458, dtype: int64"
      ]
     },
     "execution_count": 52,
     "metadata": {},
     "output_type": "execute_result"
    }
   ],
   "source": [
    "df_visitas.idAviso.value_counts()\n",
    "# Claramente existen un subconjunto de Avisos que son los mas visitados\n",
    "# luego, de estos deberiamos tomar la descripcion"
   ]
  },
  {
   "cell_type": "code",
   "execution_count": 53,
   "metadata": {},
   "outputs": [],
   "source": [
    "# Borro el data frame\n",
    "del df_visitas"
   ]
  },
  {
   "cell_type": "markdown",
   "metadata": {},
   "source": [
    "# Avisos\n"
   ]
  },
  {
   "cell_type": "markdown",
   "metadata": {},
   "source": [
    "# Postulaciones de Candidatos"
   ]
  },
  {
   "cell_type": "code",
   "execution_count": 54,
   "metadata": {},
   "outputs": [],
   "source": [
    "#traigo el dato de las postulaciones.\n",
    "df_postu = pd.read_csv('fiuba_4_postulaciones.csv',  sep= ',', encoding = 'UTF-8')"
   ]
  },
  {
   "cell_type": "code",
   "execution_count": 55,
   "metadata": {},
   "outputs": [
    {
     "data": {
      "text/html": [
       "<div>\n",
       "<style scoped>\n",
       "    .dataframe tbody tr th:only-of-type {\n",
       "        vertical-align: middle;\n",
       "    }\n",
       "\n",
       "    .dataframe tbody tr th {\n",
       "        vertical-align: top;\n",
       "    }\n",
       "\n",
       "    .dataframe thead th {\n",
       "        text-align: right;\n",
       "    }\n",
       "</style>\n",
       "<table border=\"1\" class=\"dataframe\">\n",
       "  <thead>\n",
       "    <tr style=\"text-align: right;\">\n",
       "      <th></th>\n",
       "      <th>idaviso</th>\n",
       "      <th>idpostulante</th>\n",
       "      <th>fechapostulacion</th>\n",
       "    </tr>\n",
       "  </thead>\n",
       "  <tbody>\n",
       "    <tr>\n",
       "      <th>0</th>\n",
       "      <td>1112257047</td>\n",
       "      <td>NM5M</td>\n",
       "      <td>2018-01-15 16:22:34</td>\n",
       "    </tr>\n",
       "    <tr>\n",
       "      <th>1</th>\n",
       "      <td>1111920714</td>\n",
       "      <td>NM5M</td>\n",
       "      <td>2018-02-06 09:04:50</td>\n",
       "    </tr>\n",
       "    <tr>\n",
       "      <th>2</th>\n",
       "      <td>1112346945</td>\n",
       "      <td>NM5M</td>\n",
       "      <td>2018-02-22 09:04:47</td>\n",
       "    </tr>\n",
       "    <tr>\n",
       "      <th>3</th>\n",
       "      <td>1112345547</td>\n",
       "      <td>NM5M</td>\n",
       "      <td>2018-02-22 09:04:59</td>\n",
       "    </tr>\n",
       "    <tr>\n",
       "      <th>4</th>\n",
       "      <td>1112237522</td>\n",
       "      <td>5awk</td>\n",
       "      <td>2018-01-25 18:55:03</td>\n",
       "    </tr>\n",
       "  </tbody>\n",
       "</table>\n",
       "</div>"
      ],
      "text/plain": [
       "      idaviso idpostulante     fechapostulacion\n",
       "0  1112257047         NM5M  2018-01-15 16:22:34\n",
       "1  1111920714         NM5M  2018-02-06 09:04:50\n",
       "2  1112346945         NM5M  2018-02-22 09:04:47\n",
       "3  1112345547         NM5M  2018-02-22 09:04:59\n",
       "4  1112237522         5awk  2018-01-25 18:55:03"
      ]
     },
     "execution_count": 55,
     "metadata": {},
     "output_type": "execute_result"
    }
   ],
   "source": [
    "df_postu.head()"
   ]
  },
  {
   "cell_type": "code",
   "execution_count": 56,
   "metadata": {},
   "outputs": [
    {
     "name": "stdout",
     "output_type": "stream",
     "text": [
      "<class 'pandas.core.frame.DataFrame'>\n",
      "RangeIndex: 3401623 entries, 0 to 3401622\n",
      "Data columns (total 3 columns):\n",
      "idaviso             int64\n",
      "idpostulante        object\n",
      "fechapostulacion    object\n",
      "dtypes: int64(1), object(2)\n",
      "memory usage: 77.9+ MB\n"
     ]
    }
   ],
   "source": [
    "df_postu.info()"
   ]
  },
  {
   "cell_type": "code",
   "execution_count": 57,
   "metadata": {},
   "outputs": [
    {
     "data": {
      "text/plain": [
       "idaviso             False\n",
       "idpostulante        False\n",
       "fechapostulacion    False\n",
       "dtype: bool"
      ]
     },
     "execution_count": 57,
     "metadata": {},
     "output_type": "execute_result"
    }
   ],
   "source": [
    "df_postu.isnull().any()"
   ]
  },
  {
   "cell_type": "code",
   "execution_count": 58,
   "metadata": {},
   "outputs": [
    {
     "data": {
      "text/plain": [
       "12692"
      ]
     },
     "execution_count": 58,
     "metadata": {},
     "output_type": "execute_result"
    }
   ],
   "source": [
    "df_postu.idaviso.nunique()"
   ]
  },
  {
   "cell_type": "code",
   "execution_count": 59,
   "metadata": {},
   "outputs": [
    {
     "data": {
      "text/plain": [
       "'2018-01-26 08:37:04'"
      ]
     },
     "execution_count": 59,
     "metadata": {},
     "output_type": "execute_result"
    }
   ],
   "source": [
    "df_postu.fechapostulacion[22]"
   ]
  },
  {
   "cell_type": "code",
   "execution_count": 60,
   "metadata": {
    "scrolled": true
   },
   "outputs": [],
   "source": [
    "fecha_p = df_postu.fechapostulacion.apply(lambda x: dt.strptime(x,  '%Y-%m-%d %H:%M:%S'))"
   ]
  },
  {
   "cell_type": "code",
   "execution_count": 61,
   "metadata": {},
   "outputs": [],
   "source": [
    "df_postu['fecha_p'] = fecha_p"
   ]
  },
  {
   "cell_type": "code",
   "execution_count": 62,
   "metadata": {},
   "outputs": [],
   "source": [
    "date = df_postu.fecha_p.apply(lambda x: dt.date(x))\n",
    "time = df_postu.fecha_p.apply(lambda x: dt.time(x))"
   ]
  },
  {
   "cell_type": "code",
   "execution_count": 63,
   "metadata": {},
   "outputs": [],
   "source": [
    "df_postu= df_postu.drop('fechapostulacion', axis = 1)"
   ]
  },
  {
   "cell_type": "code",
   "execution_count": 64,
   "metadata": {},
   "outputs": [],
   "source": [
    "df_postu['date'] = date\n",
    "df_postu['time'] = time"
   ]
  },
  {
   "cell_type": "code",
   "execution_count": 65,
   "metadata": {},
   "outputs": [],
   "source": [
    "hour = df_postu.time.apply(lambda x: x.hour)\n",
    "df_postu['hour']=hour"
   ]
  },
  {
   "cell_type": "code",
   "execution_count": 66,
   "metadata": {
    "scrolled": true
   },
   "outputs": [
    {
     "data": {
      "text/html": [
       "<div>\n",
       "<style scoped>\n",
       "    .dataframe tbody tr th:only-of-type {\n",
       "        vertical-align: middle;\n",
       "    }\n",
       "\n",
       "    .dataframe tbody tr th {\n",
       "        vertical-align: top;\n",
       "    }\n",
       "\n",
       "    .dataframe thead th {\n",
       "        text-align: right;\n",
       "    }\n",
       "</style>\n",
       "<table border=\"1\" class=\"dataframe\">\n",
       "  <thead>\n",
       "    <tr style=\"text-align: right;\">\n",
       "      <th></th>\n",
       "      <th>idaviso</th>\n",
       "      <th>idpostulante</th>\n",
       "      <th>fecha_p</th>\n",
       "      <th>date</th>\n",
       "      <th>time</th>\n",
       "      <th>hour</th>\n",
       "    </tr>\n",
       "  </thead>\n",
       "  <tbody>\n",
       "    <tr>\n",
       "      <th>0</th>\n",
       "      <td>1112257047</td>\n",
       "      <td>NM5M</td>\n",
       "      <td>2018-01-15 16:22:34</td>\n",
       "      <td>2018-01-15</td>\n",
       "      <td>16:22:34</td>\n",
       "      <td>16</td>\n",
       "    </tr>\n",
       "    <tr>\n",
       "      <th>1</th>\n",
       "      <td>1111920714</td>\n",
       "      <td>NM5M</td>\n",
       "      <td>2018-02-06 09:04:50</td>\n",
       "      <td>2018-02-06</td>\n",
       "      <td>09:04:50</td>\n",
       "      <td>9</td>\n",
       "    </tr>\n",
       "    <tr>\n",
       "      <th>2</th>\n",
       "      <td>1112346945</td>\n",
       "      <td>NM5M</td>\n",
       "      <td>2018-02-22 09:04:47</td>\n",
       "      <td>2018-02-22</td>\n",
       "      <td>09:04:47</td>\n",
       "      <td>9</td>\n",
       "    </tr>\n",
       "    <tr>\n",
       "      <th>3</th>\n",
       "      <td>1112345547</td>\n",
       "      <td>NM5M</td>\n",
       "      <td>2018-02-22 09:04:59</td>\n",
       "      <td>2018-02-22</td>\n",
       "      <td>09:04:59</td>\n",
       "      <td>9</td>\n",
       "    </tr>\n",
       "    <tr>\n",
       "      <th>4</th>\n",
       "      <td>1112237522</td>\n",
       "      <td>5awk</td>\n",
       "      <td>2018-01-25 18:55:03</td>\n",
       "      <td>2018-01-25</td>\n",
       "      <td>18:55:03</td>\n",
       "      <td>18</td>\n",
       "    </tr>\n",
       "  </tbody>\n",
       "</table>\n",
       "</div>"
      ],
      "text/plain": [
       "      idaviso idpostulante             fecha_p        date      time  hour\n",
       "0  1112257047         NM5M 2018-01-15 16:22:34  2018-01-15  16:22:34    16\n",
       "1  1111920714         NM5M 2018-02-06 09:04:50  2018-02-06  09:04:50     9\n",
       "2  1112346945         NM5M 2018-02-22 09:04:47  2018-02-22  09:04:47     9\n",
       "3  1112345547         NM5M 2018-02-22 09:04:59  2018-02-22  09:04:59     9\n",
       "4  1112237522         5awk 2018-01-25 18:55:03  2018-01-25  18:55:03    18"
      ]
     },
     "execution_count": 66,
     "metadata": {},
     "output_type": "execute_result"
    }
   ],
   "source": [
    "df_postu.head()"
   ]
  },
  {
   "cell_type": "code",
   "execution_count": 67,
   "metadata": {},
   "outputs": [
    {
     "data": {
      "text/plain": [
       "9     274827\n",
       "10    257280\n",
       "8     236547\n",
       "11    233871\n",
       "13    220999\n",
       "12    220434\n",
       "14    215492\n",
       "15    196633\n",
       "Name: time, dtype: int64"
      ]
     },
     "execution_count": 67,
     "metadata": {},
     "output_type": "execute_result"
    }
   ],
   "source": [
    "hour.value_counts().head(8)"
   ]
  },
  {
   "cell_type": "code",
   "execution_count": 68,
   "metadata": {},
   "outputs": [
    {
     "data": {
      "text/plain": [
       "Text(0,0.5,'Hora')"
      ]
     },
     "execution_count": 68,
     "metadata": {},
     "output_type": "execute_result"
    },
    {
     "data": {
      "image/png": "[encoded data removed]",
      "text/plain": [
       "<Figure size 720x720 with 1 Axes>"
      ]
     },
     "metadata": {},
     "output_type": "display_data"
    }
   ],
   "source": [
    "plt.figure(figsize=(10, 10))\n",
    "gr = sns.barplot(x=df_postu.hour.value_counts().values , y=df_postu.hour.value_counts().index ,  orient='h')\n",
    "gr.set_title(\"Agrupamiento de horas de postulacion\", fontsize=15)\n",
    "gr.set_xlabel(\"Q_Postulantes\", fontsize=12)\n",
    "gr.set_ylabel(\"Hora\", fontsize=15)"
   ]
  },
  {
   "cell_type": "code",
   "execution_count": 69,
   "metadata": {},
   "outputs": [
    {
     "data": {
      "text/plain": [
       "Text(0,0.5,'Frecuencia')"
      ]
     },
     "execution_count": 69,
     "metadata": {},
     "output_type": "execute_result"
    },
    {
     "data": {
      "image/png": "[encoded data removed]",
      "text/plain": [
       "<Figure size 432x288 with 1 Axes>"
      ]
     },
     "metadata": {},
     "output_type": "display_data"
    }
   ],
   "source": [
    "g = df_postu[\"hour\"].plot.hist(bins=20, color='lightblue')\n",
    "g.set_title(\"Histograma de horas de postulacion\", fontsize=18)\n",
    "g.set_xlabel(\"Hora\",fontsize=18)\n",
    "g.set_ylabel(\"Frecuencia\", fontsize=18)"
   ]
  },
  {
   "cell_type": "code",
   "execution_count": 70,
   "metadata": {},
   "outputs": [],
   "source": [
    "df_postu_ext = pd.merge(df_postu, df_post, how = 'inner', on = 'idpostulante') \n"
   ]
  },
  {
   "cell_type": "code",
   "execution_count": 71,
   "metadata": {
    "scrolled": true
   },
   "outputs": [
    {
     "data": {
      "text/html": [
       "<div>\n",
       "<style scoped>\n",
       "    .dataframe tbody tr th:only-of-type {\n",
       "        vertical-align: middle;\n",
       "    }\n",
       "\n",
       "    .dataframe tbody tr th {\n",
       "        vertical-align: top;\n",
       "    }\n",
       "\n",
       "    .dataframe thead th {\n",
       "        text-align: right;\n",
       "    }\n",
       "</style>\n",
       "<table border=\"1\" class=\"dataframe\">\n",
       "  <thead>\n",
       "    <tr style=\"text-align: right;\">\n",
       "      <th></th>\n",
       "      <th>idaviso</th>\n",
       "      <th>idpostulante</th>\n",
       "      <th>fecha_p</th>\n",
       "      <th>date</th>\n",
       "      <th>time</th>\n",
       "      <th>hour</th>\n",
       "      <th>fechanacimiento</th>\n",
       "      <th>sexo</th>\n",
       "      <th>edad</th>\n",
       "    </tr>\n",
       "  </thead>\n",
       "  <tbody>\n",
       "    <tr>\n",
       "      <th>0</th>\n",
       "      <td>1112257047</td>\n",
       "      <td>NM5M</td>\n",
       "      <td>2018-01-15 16:22:34</td>\n",
       "      <td>2018-01-15</td>\n",
       "      <td>16:22:34</td>\n",
       "      <td>16</td>\n",
       "      <td>1970-12-03 00:00:00</td>\n",
       "      <td>FEM</td>\n",
       "      <td>48</td>\n",
       "    </tr>\n",
       "    <tr>\n",
       "      <th>1</th>\n",
       "      <td>1111920714</td>\n",
       "      <td>NM5M</td>\n",
       "      <td>2018-02-06 09:04:50</td>\n",
       "      <td>2018-02-06</td>\n",
       "      <td>09:04:50</td>\n",
       "      <td>9</td>\n",
       "      <td>1970-12-03 00:00:00</td>\n",
       "      <td>FEM</td>\n",
       "      <td>48</td>\n",
       "    </tr>\n",
       "    <tr>\n",
       "      <th>2</th>\n",
       "      <td>1112346945</td>\n",
       "      <td>NM5M</td>\n",
       "      <td>2018-02-22 09:04:47</td>\n",
       "      <td>2018-02-22</td>\n",
       "      <td>09:04:47</td>\n",
       "      <td>9</td>\n",
       "      <td>1970-12-03 00:00:00</td>\n",
       "      <td>FEM</td>\n",
       "      <td>48</td>\n",
       "    </tr>\n",
       "    <tr>\n",
       "      <th>3</th>\n",
       "      <td>1112345547</td>\n",
       "      <td>NM5M</td>\n",
       "      <td>2018-02-22 09:04:59</td>\n",
       "      <td>2018-02-22</td>\n",
       "      <td>09:04:59</td>\n",
       "      <td>9</td>\n",
       "      <td>1970-12-03 00:00:00</td>\n",
       "      <td>FEM</td>\n",
       "      <td>48</td>\n",
       "    </tr>\n",
       "    <tr>\n",
       "      <th>4</th>\n",
       "      <td>1112237522</td>\n",
       "      <td>5awk</td>\n",
       "      <td>2018-01-25 18:55:03</td>\n",
       "      <td>2018-01-25</td>\n",
       "      <td>18:55:03</td>\n",
       "      <td>18</td>\n",
       "      <td>1962-12-04 00:00:00</td>\n",
       "      <td>FEM</td>\n",
       "      <td>56</td>\n",
       "    </tr>\n",
       "  </tbody>\n",
       "</table>\n",
       "</div>"
      ],
      "text/plain": [
       "      idaviso idpostulante             fecha_p        date      time  hour  \\\n",
       "0  1112257047         NM5M 2018-01-15 16:22:34  2018-01-15  16:22:34    16   \n",
       "1  1111920714         NM5M 2018-02-06 09:04:50  2018-02-06  09:04:50     9   \n",
       "2  1112346945         NM5M 2018-02-22 09:04:47  2018-02-22  09:04:47     9   \n",
       "3  1112345547         NM5M 2018-02-22 09:04:59  2018-02-22  09:04:59     9   \n",
       "4  1112237522         5awk 2018-01-25 18:55:03  2018-01-25  18:55:03    18   \n",
       "\n",
       "       fechanacimiento sexo  edad  \n",
       "0  1970-12-03 00:00:00  FEM    48  \n",
       "1  1970-12-03 00:00:00  FEM    48  \n",
       "2  1970-12-03 00:00:00  FEM    48  \n",
       "3  1970-12-03 00:00:00  FEM    48  \n",
       "4  1962-12-04 00:00:00  FEM    56  "
      ]
     },
     "execution_count": 71,
     "metadata": {},
     "output_type": "execute_result"
    }
   ],
   "source": [
    "df_postu_ext.head()"
   ]
  },
  {
   "cell_type": "code",
   "execution_count": 72,
   "metadata": {},
   "outputs": [],
   "source": [
    "df_postu_ext_60 = df_postu_ext[['hour', 'edad']][df_postu_ext.edad < 60]"
   ]
  },
  {
   "cell_type": "code",
   "execution_count": 73,
   "metadata": {},
   "outputs": [
    {
     "name": "stdout",
     "output_type": "stream",
     "text": [
      "['_', '_13', '_19', '_22', '_23', '_3', '_39', '_46', '_48', '_5', '_55', '_6', '_66', '_71', '_8', '_9', 'df_post', 'df_postu', 'df_postu_ext', 'df_postu_ext_60']\n"
     ]
    }
   ],
   "source": [
    "#listo dataframes en memoria\n",
    "alldfs = [var for var in dir() if isinstance(eval(var), pd.core.frame.DataFrame)]\n",
    "\n",
    "print(alldfs) # df1, df2\n"
   ]
  },
  {
   "cell_type": "code",
   "execution_count": 74,
   "metadata": {},
   "outputs": [
    {
     "data": {
      "text/plain": [
       "Text(0,0.5,'Frecuencia')"
      ]
     },
     "execution_count": 74,
     "metadata": {},
     "output_type": "execute_result"
    },
    {
     "data": {
      "image/png": "[encoded data removed]",
      "text/plain": [
       "<Figure size 432x288 with 1 Axes>"
      ]
     },
     "metadata": {},
     "output_type": "display_data"
    }
   ],
   "source": [
    "g = df_postu_ext_60[[\"edad\",\"hour\"]].plot.hist(bins=50,alpha=0.5)\n",
    "g.set_title(\"Distribucion de Pledged (log) x Goal (log)\", fontsize=18)\n",
    "g.set_ylabel(\"Frecuencia\", fontsize=18)"
   ]
  },
  {
   "cell_type": "code",
   "execution_count": 75,
   "metadata": {
    "scrolled": true
   },
   "outputs": [
    {
     "data": {
      "text/html": [
       "<div>\n",
       "<style scoped>\n",
       "    .dataframe tbody tr th:only-of-type {\n",
       "        vertical-align: middle;\n",
       "    }\n",
       "\n",
       "    .dataframe tbody tr th {\n",
       "        vertical-align: top;\n",
       "    }\n",
       "\n",
       "    .dataframe thead th {\n",
       "        text-align: right;\n",
       "    }\n",
       "</style>\n",
       "<table border=\"1\" class=\"dataframe\">\n",
       "  <thead>\n",
       "    <tr style=\"text-align: right;\">\n",
       "      <th></th>\n",
       "      <th>idaviso</th>\n",
       "      <th>idpostulante</th>\n",
       "      <th>fecha_p</th>\n",
       "      <th>date</th>\n",
       "      <th>time</th>\n",
       "      <th>hour</th>\n",
       "      <th>fechanacimiento</th>\n",
       "      <th>sexo</th>\n",
       "      <th>edad</th>\n",
       "    </tr>\n",
       "  </thead>\n",
       "  <tbody>\n",
       "    <tr>\n",
       "      <th>0</th>\n",
       "      <td>1112257047</td>\n",
       "      <td>NM5M</td>\n",
       "      <td>2018-01-15 16:22:34</td>\n",
       "      <td>2018-01-15</td>\n",
       "      <td>16:22:34</td>\n",
       "      <td>16</td>\n",
       "      <td>1970-12-03 00:00:00</td>\n",
       "      <td>FEM</td>\n",
       "      <td>48</td>\n",
       "    </tr>\n",
       "    <tr>\n",
       "      <th>1</th>\n",
       "      <td>1111920714</td>\n",
       "      <td>NM5M</td>\n",
       "      <td>2018-02-06 09:04:50</td>\n",
       "      <td>2018-02-06</td>\n",
       "      <td>09:04:50</td>\n",
       "      <td>9</td>\n",
       "      <td>1970-12-03 00:00:00</td>\n",
       "      <td>FEM</td>\n",
       "      <td>48</td>\n",
       "    </tr>\n",
       "    <tr>\n",
       "      <th>2</th>\n",
       "      <td>1112346945</td>\n",
       "      <td>NM5M</td>\n",
       "      <td>2018-02-22 09:04:47</td>\n",
       "      <td>2018-02-22</td>\n",
       "      <td>09:04:47</td>\n",
       "      <td>9</td>\n",
       "      <td>1970-12-03 00:00:00</td>\n",
       "      <td>FEM</td>\n",
       "      <td>48</td>\n",
       "    </tr>\n",
       "    <tr>\n",
       "      <th>3</th>\n",
       "      <td>1112345547</td>\n",
       "      <td>NM5M</td>\n",
       "      <td>2018-02-22 09:04:59</td>\n",
       "      <td>2018-02-22</td>\n",
       "      <td>09:04:59</td>\n",
       "      <td>9</td>\n",
       "      <td>1970-12-03 00:00:00</td>\n",
       "      <td>FEM</td>\n",
       "      <td>48</td>\n",
       "    </tr>\n",
       "    <tr>\n",
       "      <th>4</th>\n",
       "      <td>1112237522</td>\n",
       "      <td>5awk</td>\n",
       "      <td>2018-01-25 18:55:03</td>\n",
       "      <td>2018-01-25</td>\n",
       "      <td>18:55:03</td>\n",
       "      <td>18</td>\n",
       "      <td>1962-12-04 00:00:00</td>\n",
       "      <td>FEM</td>\n",
       "      <td>56</td>\n",
       "    </tr>\n",
       "    <tr>\n",
       "      <th>5</th>\n",
       "      <td>1112277633</td>\n",
       "      <td>5awk</td>\n",
       "      <td>2018-01-29 13:34:44</td>\n",
       "      <td>2018-01-29</td>\n",
       "      <td>13:34:44</td>\n",
       "      <td>13</td>\n",
       "      <td>1962-12-04 00:00:00</td>\n",
       "      <td>FEM</td>\n",
       "      <td>56</td>\n",
       "    </tr>\n",
       "    <tr>\n",
       "      <th>6</th>\n",
       "      <td>1112302347</td>\n",
       "      <td>5awk</td>\n",
       "      <td>2018-02-07 20:49:22</td>\n",
       "      <td>2018-02-07</td>\n",
       "      <td>20:49:22</td>\n",
       "      <td>20</td>\n",
       "      <td>1962-12-04 00:00:00</td>\n",
       "      <td>FEM</td>\n",
       "      <td>56</td>\n",
       "    </tr>\n",
       "    <tr>\n",
       "      <th>7</th>\n",
       "      <td>1112291495</td>\n",
       "      <td>5awk</td>\n",
       "      <td>2018-02-07 20:50:13</td>\n",
       "      <td>2018-02-07</td>\n",
       "      <td>20:50:13</td>\n",
       "      <td>20</td>\n",
       "      <td>1962-12-04 00:00:00</td>\n",
       "      <td>FEM</td>\n",
       "      <td>56</td>\n",
       "    </tr>\n",
       "    <tr>\n",
       "      <th>8</th>\n",
       "      <td>1112304011</td>\n",
       "      <td>5awk</td>\n",
       "      <td>2018-02-07 20:51:15</td>\n",
       "      <td>2018-02-07</td>\n",
       "      <td>20:51:15</td>\n",
       "      <td>20</td>\n",
       "      <td>1962-12-04 00:00:00</td>\n",
       "      <td>FEM</td>\n",
       "      <td>56</td>\n",
       "    </tr>\n",
       "    <tr>\n",
       "      <th>9</th>\n",
       "      <td>1112326289</td>\n",
       "      <td>5awk</td>\n",
       "      <td>2018-02-09 20:24:57</td>\n",
       "      <td>2018-02-09</td>\n",
       "      <td>20:24:57</td>\n",
       "      <td>20</td>\n",
       "      <td>1962-12-04 00:00:00</td>\n",
       "      <td>FEM</td>\n",
       "      <td>56</td>\n",
       "    </tr>\n",
       "    <tr>\n",
       "      <th>10</th>\n",
       "      <td>1112303543</td>\n",
       "      <td>5awk</td>\n",
       "      <td>2018-02-18 23:49:34</td>\n",
       "      <td>2018-02-18</td>\n",
       "      <td>23:49:34</td>\n",
       "      <td>23</td>\n",
       "      <td>1962-12-04 00:00:00</td>\n",
       "      <td>FEM</td>\n",
       "      <td>56</td>\n",
       "    </tr>\n",
       "    <tr>\n",
       "      <th>11</th>\n",
       "      <td>1112315393</td>\n",
       "      <td>5awk</td>\n",
       "      <td>2018-02-19 00:01:20</td>\n",
       "      <td>2018-02-19</td>\n",
       "      <td>00:01:20</td>\n",
       "      <td>0</td>\n",
       "      <td>1962-12-04 00:00:00</td>\n",
       "      <td>FEM</td>\n",
       "      <td>56</td>\n",
       "    </tr>\n",
       "    <tr>\n",
       "      <th>12</th>\n",
       "      <td>1112315188</td>\n",
       "      <td>5awk</td>\n",
       "      <td>2018-02-28 15:54:28</td>\n",
       "      <td>2018-02-28</td>\n",
       "      <td>15:54:28</td>\n",
       "      <td>15</td>\n",
       "      <td>1962-12-04 00:00:00</td>\n",
       "      <td>FEM</td>\n",
       "      <td>56</td>\n",
       "    </tr>\n",
       "    <tr>\n",
       "      <th>13</th>\n",
       "      <td>1112346738</td>\n",
       "      <td>5awk</td>\n",
       "      <td>2018-02-28 15:54:47</td>\n",
       "      <td>2018-02-28</td>\n",
       "      <td>15:54:47</td>\n",
       "      <td>15</td>\n",
       "      <td>1962-12-04 00:00:00</td>\n",
       "      <td>FEM</td>\n",
       "      <td>56</td>\n",
       "    </tr>\n",
       "    <tr>\n",
       "      <th>14</th>\n",
       "      <td>1112330625</td>\n",
       "      <td>5awk</td>\n",
       "      <td>2018-02-28 15:56:43</td>\n",
       "      <td>2018-02-28</td>\n",
       "      <td>15:56:43</td>\n",
       "      <td>15</td>\n",
       "      <td>1962-12-04 00:00:00</td>\n",
       "      <td>FEM</td>\n",
       "      <td>56</td>\n",
       "    </tr>\n",
       "    <tr>\n",
       "      <th>15</th>\n",
       "      <td>1112306543</td>\n",
       "      <td>5awk</td>\n",
       "      <td>2018-02-28 15:57:35</td>\n",
       "      <td>2018-02-28</td>\n",
       "      <td>15:57:35</td>\n",
       "      <td>15</td>\n",
       "      <td>1962-12-04 00:00:00</td>\n",
       "      <td>FEM</td>\n",
       "      <td>56</td>\n",
       "    </tr>\n",
       "    <tr>\n",
       "      <th>16</th>\n",
       "      <td>1112315170</td>\n",
       "      <td>5awk</td>\n",
       "      <td>2018-02-28 15:59:14</td>\n",
       "      <td>2018-02-28</td>\n",
       "      <td>15:59:14</td>\n",
       "      <td>15</td>\n",
       "      <td>1962-12-04 00:00:00</td>\n",
       "      <td>FEM</td>\n",
       "      <td>56</td>\n",
       "    </tr>\n",
       "    <tr>\n",
       "      <th>17</th>\n",
       "      <td>1111799928</td>\n",
       "      <td>5awk</td>\n",
       "      <td>2018-02-28 16:00:06</td>\n",
       "      <td>2018-02-28</td>\n",
       "      <td>16:00:06</td>\n",
       "      <td>16</td>\n",
       "      <td>1962-12-04 00:00:00</td>\n",
       "      <td>FEM</td>\n",
       "      <td>56</td>\n",
       "    </tr>\n",
       "    <tr>\n",
       "      <th>18</th>\n",
       "      <td>1112323355</td>\n",
       "      <td>5awk</td>\n",
       "      <td>2018-02-28 16:00:41</td>\n",
       "      <td>2018-02-28</td>\n",
       "      <td>16:00:41</td>\n",
       "      <td>16</td>\n",
       "      <td>1962-12-04 00:00:00</td>\n",
       "      <td>FEM</td>\n",
       "      <td>56</td>\n",
       "    </tr>\n",
       "    <tr>\n",
       "      <th>19</th>\n",
       "      <td>1112305358</td>\n",
       "      <td>5awk</td>\n",
       "      <td>2018-02-28 16:02:15</td>\n",
       "      <td>2018-02-28</td>\n",
       "      <td>16:02:15</td>\n",
       "      <td>16</td>\n",
       "      <td>1962-12-04 00:00:00</td>\n",
       "      <td>FEM</td>\n",
       "      <td>56</td>\n",
       "    </tr>\n",
       "    <tr>\n",
       "      <th>20</th>\n",
       "      <td>1112286523</td>\n",
       "      <td>ZaO5</td>\n",
       "      <td>2018-01-24 15:07:39</td>\n",
       "      <td>2018-01-24</td>\n",
       "      <td>15:07:39</td>\n",
       "      <td>15</td>\n",
       "      <td>1978-08-10 00:00:00</td>\n",
       "      <td>FEM</td>\n",
       "      <td>40</td>\n",
       "    </tr>\n",
       "    <tr>\n",
       "      <th>21</th>\n",
       "      <td>1112272060</td>\n",
       "      <td>ZaO5</td>\n",
       "      <td>2018-01-24 15:20:10</td>\n",
       "      <td>2018-01-24</td>\n",
       "      <td>15:20:10</td>\n",
       "      <td>15</td>\n",
       "      <td>1978-08-10 00:00:00</td>\n",
       "      <td>FEM</td>\n",
       "      <td>40</td>\n",
       "    </tr>\n",
       "    <tr>\n",
       "      <th>22</th>\n",
       "      <td>1112288401</td>\n",
       "      <td>ZaO5</td>\n",
       "      <td>2018-01-26 08:37:04</td>\n",
       "      <td>2018-01-26</td>\n",
       "      <td>08:37:04</td>\n",
       "      <td>8</td>\n",
       "      <td>1978-08-10 00:00:00</td>\n",
       "      <td>FEM</td>\n",
       "      <td>40</td>\n",
       "    </tr>\n",
       "    <tr>\n",
       "      <th>23</th>\n",
       "      <td>1112300563</td>\n",
       "      <td>ZaO5</td>\n",
       "      <td>2018-01-30 13:35:48</td>\n",
       "      <td>2018-01-30</td>\n",
       "      <td>13:35:48</td>\n",
       "      <td>13</td>\n",
       "      <td>1978-08-10 00:00:00</td>\n",
       "      <td>FEM</td>\n",
       "      <td>40</td>\n",
       "    </tr>\n",
       "    <tr>\n",
       "      <th>24</th>\n",
       "      <td>1112293018</td>\n",
       "      <td>ZaO5</td>\n",
       "      <td>2018-01-31 08:41:05</td>\n",
       "      <td>2018-01-31</td>\n",
       "      <td>08:41:05</td>\n",
       "      <td>8</td>\n",
       "      <td>1978-08-10 00:00:00</td>\n",
       "      <td>FEM</td>\n",
       "      <td>40</td>\n",
       "    </tr>\n",
       "  </tbody>\n",
       "</table>\n",
       "</div>"
      ],
      "text/plain": [
       "       idaviso idpostulante             fecha_p        date      time  hour  \\\n",
       "0   1112257047         NM5M 2018-01-15 16:22:34  2018-01-15  16:22:34    16   \n",
       "1   1111920714         NM5M 2018-02-06 09:04:50  2018-02-06  09:04:50     9   \n",
       "2   1112346945         NM5M 2018-02-22 09:04:47  2018-02-22  09:04:47     9   \n",
       "3   1112345547         NM5M 2018-02-22 09:04:59  2018-02-22  09:04:59     9   \n",
       "4   1112237522         5awk 2018-01-25 18:55:03  2018-01-25  18:55:03    18   \n",
       "5   1112277633         5awk 2018-01-29 13:34:44  2018-01-29  13:34:44    13   \n",
       "6   1112302347         5awk 2018-02-07 20:49:22  2018-02-07  20:49:22    20   \n",
       "7   1112291495         5awk 2018-02-07 20:50:13  2018-02-07  20:50:13    20   \n",
       "8   1112304011         5awk 2018-02-07 20:51:15  2018-02-07  20:51:15    20   \n",
       "9   1112326289         5awk 2018-02-09 20:24:57  2018-02-09  20:24:57    20   \n",
       "10  1112303543         5awk 2018-02-18 23:49:34  2018-02-18  23:49:34    23   \n",
       "11  1112315393         5awk 2018-02-19 00:01:20  2018-02-19  00:01:20     0   \n",
       "12  1112315188         5awk 2018-02-28 15:54:28  2018-02-28  15:54:28    15   \n",
       "13  1112346738         5awk 2018-02-28 15:54:47  2018-02-28  15:54:47    15   \n",
       "14  1112330625         5awk 2018-02-28 15:56:43  2018-02-28  15:56:43    15   \n",
       "15  1112306543         5awk 2018-02-28 15:57:35  2018-02-28  15:57:35    15   \n",
       "16  1112315170         5awk 2018-02-28 15:59:14  2018-02-28  15:59:14    15   \n",
       "17  1111799928         5awk 2018-02-28 16:00:06  2018-02-28  16:00:06    16   \n",
       "18  1112323355         5awk 2018-02-28 16:00:41  2018-02-28  16:00:41    16   \n",
       "19  1112305358         5awk 2018-02-28 16:02:15  2018-02-28  16:02:15    16   \n",
       "20  1112286523         ZaO5 2018-01-24 15:07:39  2018-01-24  15:07:39    15   \n",
       "21  1112272060         ZaO5 2018-01-24 15:20:10  2018-01-24  15:20:10    15   \n",
       "22  1112288401         ZaO5 2018-01-26 08:37:04  2018-01-26  08:37:04     8   \n",
       "23  1112300563         ZaO5 2018-01-30 13:35:48  2018-01-30  13:35:48    13   \n",
       "24  1112293018         ZaO5 2018-01-31 08:41:05  2018-01-31  08:41:05     8   \n",
       "\n",
       "        fechanacimiento sexo  edad  \n",
       "0   1970-12-03 00:00:00  FEM    48  \n",
       "1   1970-12-03 00:00:00  FEM    48  \n",
       "2   1970-12-03 00:00:00  FEM    48  \n",
       "3   1970-12-03 00:00:00  FEM    48  \n",
       "4   1962-12-04 00:00:00  FEM    56  \n",
       "5   1962-12-04 00:00:00  FEM    56  \n",
       "6   1962-12-04 00:00:00  FEM    56  \n",
       "7   1962-12-04 00:00:00  FEM    56  \n",
       "8   1962-12-04 00:00:00  FEM    56  \n",
       "9   1962-12-04 00:00:00  FEM    56  \n",
       "10  1962-12-04 00:00:00  FEM    56  \n",
       "11  1962-12-04 00:00:00  FEM    56  \n",
       "12  1962-12-04 00:00:00  FEM    56  \n",
       "13  1962-12-04 00:00:00  FEM    56  \n",
       "14  1962-12-04 00:00:00  FEM    56  \n",
       "15  1962-12-04 00:00:00  FEM    56  \n",
       "16  1962-12-04 00:00:00  FEM    56  \n",
       "17  1962-12-04 00:00:00  FEM    56  \n",
       "18  1962-12-04 00:00:00  FEM    56  \n",
       "19  1962-12-04 00:00:00  FEM    56  \n",
       "20  1978-08-10 00:00:00  FEM    40  \n",
       "21  1978-08-10 00:00:00  FEM    40  \n",
       "22  1978-08-10 00:00:00  FEM    40  \n",
       "23  1978-08-10 00:00:00  FEM    40  \n",
       "24  1978-08-10 00:00:00  FEM    40  "
      ]
     },
     "execution_count": 75,
     "metadata": {},
     "output_type": "execute_result"
    }
   ],
   "source": [
    "df_postu_ext[0:25]"
   ]
  },
  {
   "cell_type": "markdown",
   "metadata": {},
   "source": [
    "sexo_nro = []\n",
    "for x in range(0,len(df_postu_ext)-1):\n",
    "    if df_postu_ext.iloc[x].sexo == 'FEM':\n",
    "        sexo_nro.append(1)\n",
    "    elif df_postu_ext.iloc[x].sexo == 'MASC':\n",
    "        sexo_nro.append(2)\n",
    "    else: \n",
    "        sexo_nro.append(0)\n",
    "    "
   ]
  },
  {
   "cell_type": "markdown",
   "metadata": {},
   "source": [
    "df_postu_ext['sexo_nro'] = sexo_nro"
   ]
  },
  {
   "cell_type": "code",
   "execution_count": 78,
   "metadata": {},
   "outputs": [],
   "source": [
    "#Aca queria ver la ralacion entre el horario y el genero y la edad a ver si encontraba algo pero no me dio el tiempo para normlaizar las vbles"
   ]
  },
  {
   "cell_type": "code",
   "execution_count": 79,
   "metadata": {},
   "outputs": [
    {
     "data": {
      "text/plain": [
       "Text(0,0.5,'Pledged Values(log)')"
      ]
     },
     "execution_count": 79,
     "metadata": {},
     "output_type": "execute_result"
    },
    {
     "data": {
      "image/png": "[encoded data removed]",
      "text/plain": [
       "<Figure size 432x288 with 1 Axes>"
      ]
     },
     "metadata": {},
     "output_type": "display_data"
    }
   ],
   "source": [
    "g = plt.scatter(df_postu_ext['hour'],df_postu_ext['edad'], alpha='0.25', color='lightgreen', label='successful');\n",
    "#g = plt.scatter(projects_2017.loc[projects_2017['state'] != 'successful','goal_log'],projects_2017.loc[projects_2017['state'] != 'successful','pledged_log'], alpha='0.25', color='orangered', label='failed');\n",
    "plt.legend();\n",
    "plt.title(\"Relacion entre Goal y Pledged values sobre proyectos exitosos y no exitosos\", fontsize=20)\n",
    "plt.xlabel(\"Goal Values(log)\", fontsize=20)\n",
    "plt.ylabel(\"Pledged Values(log)\", fontsize=20)"
   ]
  },
  {
   "cell_type": "code",
   "execution_count": 80,
   "metadata": {},
   "outputs": [],
   "source": [
    "del df_post"
   ]
  },
  {
   "cell_type": "markdown",
   "metadata": {},
   "source": [
    "# Destalle"
   ]
  },
  {
   "cell_type": "code",
   "execution_count": 81,
   "metadata": {},
   "outputs": [],
   "source": [
    "#Cargo el dato de los detalles.\n",
    "df_detalle = pd.read_csv('fiuba_6_avisos_detalle.csv',  sep= ',', encoding = 'UTF-8')"
   ]
  },
  {
   "cell_type": "code",
   "execution_count": 178,
   "metadata": {
    "scrolled": true
   },
   "outputs": [
    {
     "ename": "NameError",
     "evalue": "name 'df_detalle' is not defined",
     "output_type": "error",
     "traceback": [
      "\u001b[1;31m---------------------------------------------------------------------------\u001b[0m",
      "\u001b[1;31mNameError\u001b[0m                                 Traceback (most recent call last)",
      "\u001b[1;32m<ipython-input-178-f968f288cd89>\u001b[0m in \u001b[0;36m<module>\u001b[1;34m()\u001b[0m\n\u001b[1;32m----> 1\u001b[1;33m \u001b[0mdf_detalle\u001b[0m\u001b[1;33m.\u001b[0m\u001b[0mhead\u001b[0m\u001b[1;33m(\u001b[0m\u001b[1;33m)\u001b[0m\u001b[1;33m\u001b[0m\u001b[0m\n\u001b[0m",
      "\u001b[1;31mNameError\u001b[0m: name 'df_detalle' is not defined"
     ]
    }
   ],
   "source": [
    "df_detalle.head()"
   ]
  },
  {
   "cell_type": "code",
   "execution_count": 83,
   "metadata": {},
   "outputs": [],
   "source": [
    "pd.options.display.max_colwidth = 0"
   ]
  },
  {
   "cell_type": "code",
   "execution_count": 179,
   "metadata": {
    "scrolled": true
   },
   "outputs": [
    {
     "ename": "NameError",
     "evalue": "name 'df_detalle' is not defined",
     "output_type": "error",
     "traceback": [
      "\u001b[1;31m---------------------------------------------------------------------------\u001b[0m",
      "\u001b[1;31mNameError\u001b[0m                                 Traceback (most recent call last)",
      "\u001b[1;32m<ipython-input-179-307594c6eca7>\u001b[0m in \u001b[0;36m<module>\u001b[1;34m()\u001b[0m\n\u001b[1;32m----> 1\u001b[1;33m \u001b[0mdf_detalle\u001b[0m\u001b[1;33m.\u001b[0m\u001b[0mhead\u001b[0m\u001b[1;33m(\u001b[0m\u001b[1;36m1\u001b[0m\u001b[1;33m)\u001b[0m\u001b[1;33m\u001b[0m\u001b[0m\n\u001b[0m",
      "\u001b[1;31mNameError\u001b[0m: name 'df_detalle' is not defined"
     ]
    }
   ],
   "source": [
    "df_detalle.head(1)"
   ]
  },
  {
   "cell_type": "code",
   "execution_count": 85,
   "metadata": {},
   "outputs": [
    {
     "data": {
      "text/plain": [
       "13534"
      ]
     },
     "execution_count": 85,
     "metadata": {},
     "output_type": "execute_result"
    }
   ],
   "source": [
    "df_detalle.idaviso.nunique()"
   ]
  },
  {
   "cell_type": "code",
   "execution_count": 86,
   "metadata": {},
   "outputs": [
    {
     "name": "stdout",
     "output_type": "stream",
     "text": [
      "<class 'pandas.core.frame.DataFrame'>\n",
      "RangeIndex: 13534 entries, 0 to 13533\n",
      "Data columns (total 11 columns):\n",
      "idaviso                 13534 non-null int64\n",
      "idpais                  13534 non-null int64\n",
      "titulo                  13534 non-null object\n",
      "descripcion             13534 non-null object\n",
      "nombre_zona             13534 non-null object\n",
      "ciudad                  47 non-null object\n",
      "mapacalle               872 non-null object\n",
      "tipo_de_trabajo         13534 non-null object\n",
      "nivel_laboral           13534 non-null object\n",
      "nombre_area             13534 non-null object\n",
      "denominacion_empresa    13529 non-null object\n",
      "dtypes: int64(2), object(9)\n",
      "memory usage: 1.1+ MB\n"
     ]
    }
   ],
   "source": [
    "# Los campos Ciudad y mapacalle son despreciables. Estan completos en menos de un 10% \n",
    "df_detalle.info()"
   ]
  }
 ],
 "metadata": {
  "kernelspec": {
   "display_name": "Python 3",
   "language": "python",
   "name": "python3"
  },
  "language_info": {
   "codemirror_mode": {
    "name": "ipython",
    "version": 3
   },
   "file_extension": ".py",
   "mimetype": "text/x-python",
   "name": "python",
   "nbconvert_exporter": "python",
   "pygments_lexer": "ipython3",
   "version": "3.6.5"
  }
 },
 "nbformat": 4,
 "nbformat_minor": 2
}
